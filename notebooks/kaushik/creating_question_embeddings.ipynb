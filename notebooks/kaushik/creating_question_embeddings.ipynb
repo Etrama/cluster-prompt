{
 "cells": [
  {
   "cell_type": "code",
   "execution_count": 19,
   "metadata": {},
   "outputs": [],
   "source": [
    "import numpy as np #i just like to have this\n",
    "import pandas as pd #dfs lul\n",
    "import tiktoken # for counting tokens\n",
    "import openai #for generating embeddings\n",
    "import matplotlib.pyplot as plt #for plotting\n",
    "import seaborn as sns #for plotting\n",
    "sns.set_style(\"darkgrid\")"
   ]
  },
  {
   "cell_type": "code",
   "execution_count": 20,
   "metadata": {},
   "outputs": [],
   "source": [
    "#reference: https://github.com/openai/openai-cookbook/blob/297c53430cad2d05ba763ab9dca64309cb5091e9/examples/Embedding_Wikipedia_articles_for_search.ipynb\n",
    "results2 = pd.read_json(r\"C:\\Users\\kaush\\Desktop\\fuck_you_chatPAL\\pal\\eval_results\\gsm_complex_prompt_baseline_acc83.02.chat.jsonl\",lines=True)\n",
    "df = results2\n",
    "questions = df[\"input\"].values.tolist()\n",
    "GPT_MODEL = \"gpt-3.5-turbo\" #for tokenizer selection"
   ]
  },
  {
   "cell_type": "code",
   "execution_count": 21,
   "metadata": {},
   "outputs": [],
   "source": [
    "def num_tokens(text: str, model: str = GPT_MODEL) -> int:\n",
    "    \"\"\"Return the number of tokens in a string.\"\"\"\n",
    "    encoding = tiktoken.encoding_for_model(model)\n",
    "    return len(encoding.encode(text))"
   ]
  },
  {
   "cell_type": "code",
   "execution_count": 22,
   "metadata": {},
   "outputs": [],
   "source": [
    "token_counts = [num_tokens(question) for question in questions]"
   ]
  },
  {
   "cell_type": "code",
   "execution_count": 23,
   "metadata": {},
   "outputs": [],
   "source": [
    "df[\"token_counts\"] = token_counts"
   ]
  },
  {
   "cell_type": "code",
   "execution_count": 25,
   "metadata": {},
   "outputs": [
    {
     "name": "stdout",
     "output_type": "stream",
     "text": [
      "Mininum tokens to encode: 22\n",
      "Maximum tokens to encode: 185\n"
     ]
    },
    {
     "data": {
      "image/png": "[encoded data removed]",
      "text/plain": [
       "<Figure size 432x288 with 1 Axes>"
      ]
     },
     "metadata": {},
     "output_type": "display_data"
    }
   ],
   "source": [
    "plt.hist(token_counts)\n",
    "print(f\"Mininum tokens to encode: {min(token_counts)}\")\n",
    "print(f\"Maximum tokens to encode: {max(token_counts)}\")\n",
    "#GPT 3.5 can use upto 4096 tokens so we are more than ok here."
   ]
  },
  {
   "cell_type": "code",
   "execution_count": null,
   "metadata": {},
   "outputs": [],
   "source": []
  }
 ],
 "metadata": {
  "kernelspec": {
   "display_name": "base",
   "language": "python",
   "name": "python3"
  },
  "language_info": {
   "codemirror_mode": {
    "name": "ipython",
    "version": 3
   },
   "file_extension": ".py",
   "mimetype": "text/x-python",
   "name": "python",
   "nbconvert_exporter": "python",
   "pygments_lexer": "ipython3",
   "version": "3.9.12"
  },
  "orig_nbformat": 4
 },
 "nbformat": 4,
 "nbformat_minor": 2
}
