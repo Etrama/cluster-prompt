{
 "cells": [
  {
   "cell_type": "code",
   "execution_count": 1,
   "metadata": {},
   "outputs": [],
   "source": [
    "import numpy as np\n",
    "import pandas as pd\n",
    "import matplotlib.pyplot as plt\n",
    "import seaborn as sns\n",
    "sns.set_style(\"darkgrid\")"
   ]
  },
  {
   "cell_type": "code",
   "execution_count": 2,
   "metadata": {},
   "outputs": [],
   "source": [
    "results2 = pd.read_json(r\"C:\\Users\\kaush\\Desktop\\fuck_you_chatPAL\\pal\\eval_results\\gsm_complex_prompt_baseline_acc83.02.chat.jsonl\",lines=True)"
   ]
  },
  {
   "cell_type": "code",
   "execution_count": 5,
   "metadata": {},
   "outputs": [],
   "source": [
    "df = results2"
   ]
  },
  {
   "cell_type": "code",
   "execution_count": 7,
   "metadata": {},
   "outputs": [],
   "source": [
    "errors = df[df[\"score\"] == 0]"
   ]
  },
  {
   "cell_type": "code",
   "execution_count": 13,
   "metadata": {},
   "outputs": [],
   "source": [
    "errors = errors.drop(columns=[\"score\", \"type_error\"])"
   ]
  },
  {
   "cell_type": "code",
   "execution_count": 15,
   "metadata": {},
   "outputs": [
    {
     "data": {
      "text/html": [
       "<div>\n",
       "<style scoped>\n",
       "    .dataframe tbody tr th:only-of-type {\n",
       "        vertical-align: middle;\n",
       "    }\n",
       "\n",
       "    .dataframe tbody tr th {\n",
       "        vertical-align: top;\n",
       "    }\n",
       "\n",
       "    .dataframe thead th {\n",
       "        text-align: right;\n",
       "    }\n",
       "</style>\n",
       "<table border=\"1\" class=\"dataframe\">\n",
       "  <thead>\n",
       "    <tr style=\"text-align: right;\">\n",
       "      <th></th>\n",
       "      <th>input</th>\n",
       "      <th>target</th>\n",
       "      <th>answer</th>\n",
       "      <th>generation</th>\n",
       "    </tr>\n",
       "  </thead>\n",
       "  <tbody>\n",
       "    <tr>\n",
       "      <th>0</th>\n",
       "      <td>Josh decides to try flipping a house.  He buys...</td>\n",
       "      <td>70000</td>\n",
       "      <td>120000.0</td>\n",
       "      <td>The increase in value of the house is 150% of ...</td>\n",
       "    </tr>\n",
       "    <tr>\n",
       "      <th>1</th>\n",
       "      <td>Kylar went to the store to buy glasses for his...</td>\n",
       "      <td>64</td>\n",
       "      <td>16.0</td>\n",
       "      <td>Kylar wants to buy 16 glasses, so he will pay ...</td>\n",
       "    </tr>\n",
       "    <tr>\n",
       "      <th>2</th>\n",
       "      <td>Carla is downloading a 200 GB file. Normally s...</td>\n",
       "      <td>160</td>\n",
       "      <td>100.0</td>\n",
       "      <td>Carla can download 2 GB/minute, so it would no...</td>\n",
       "    </tr>\n",
       "    <tr>\n",
       "      <th>3</th>\n",
       "      <td>John drives for 3 hours at a speed of 60 mph a...</td>\n",
       "      <td>45</td>\n",
       "      <td>465.0</td>\n",
       "      <td>In the first 3 hours, John drives 3*60 = 180 m...</td>\n",
       "    </tr>\n",
       "    <tr>\n",
       "      <th>4</th>\n",
       "      <td>Carlos is planting a lemon tree. The tree will...</td>\n",
       "      <td>13</td>\n",
       "      <td>12.0</td>\n",
       "      <td>Each year, Carlos earns 7 lemons x $1.5 per le...</td>\n",
       "    </tr>\n",
       "    <tr>\n",
       "      <th>...</th>\n",
       "      <td>...</td>\n",
       "      <td>...</td>\n",
       "      <td>...</td>\n",
       "      <td>...</td>\n",
       "    </tr>\n",
       "    <tr>\n",
       "      <th>219</th>\n",
       "      <td>Every day Charisma meditates for 15 minutes wh...</td>\n",
       "      <td>34</td>\n",
       "      <td>23.5</td>\n",
       "      <td>Charisma meditates twice a day for a total of ...</td>\n",
       "    </tr>\n",
       "    <tr>\n",
       "      <th>220</th>\n",
       "      <td>Nate's dog can dig six holes a day. He digs fo...</td>\n",
       "      <td>4</td>\n",
       "      <td>6.0</td>\n",
       "      <td>Nate's dog digs 6 holes a day for 14 days, so ...</td>\n",
       "    </tr>\n",
       "    <tr>\n",
       "      <th>221</th>\n",
       "      <td>The girls are trying to raise money for a carn...</td>\n",
       "      <td>2280</td>\n",
       "      <td>2180.0</td>\n",
       "      <td>Alexandra raised $430.\\nKim raised $320 more t...</td>\n",
       "    </tr>\n",
       "    <tr>\n",
       "      <th>222</th>\n",
       "      <td>Tom's restaurant gets 6 reservations a night. ...</td>\n",
       "      <td>180</td>\n",
       "      <td>360.0</td>\n",
       "      <td>Tom's restaurant gets 6 reservations a night, ...</td>\n",
       "    </tr>\n",
       "    <tr>\n",
       "      <th>223</th>\n",
       "      <td>John had a son James when he was 19.  James is...</td>\n",
       "      <td>8</td>\n",
       "      <td>22.0</td>\n",
       "      <td>If James is twice as old as Dora, and Dora wil...</td>\n",
       "    </tr>\n",
       "  </tbody>\n",
       "</table>\n",
       "<p>224 rows × 4 columns</p>\n",
       "</div>"
      ],
      "text/plain": [
       "                                                 input  target    answer  \\\n",
       "0    Josh decides to try flipping a house.  He buys...   70000  120000.0   \n",
       "1    Kylar went to the store to buy glasses for his...      64      16.0   \n",
       "2    Carla is downloading a 200 GB file. Normally s...     160     100.0   \n",
       "3    John drives for 3 hours at a speed of 60 mph a...      45     465.0   \n",
       "4    Carlos is planting a lemon tree. The tree will...      13      12.0   \n",
       "..                                                 ...     ...       ...   \n",
       "219  Every day Charisma meditates for 15 minutes wh...      34      23.5   \n",
       "220  Nate's dog can dig six holes a day. He digs fo...       4       6.0   \n",
       "221  The girls are trying to raise money for a carn...    2280    2180.0   \n",
       "222  Tom's restaurant gets 6 reservations a night. ...     180     360.0   \n",
       "223  John had a son James when he was 19.  James is...       8      22.0   \n",
       "\n",
       "                                            generation  \n",
       "0    The increase in value of the house is 150% of ...  \n",
       "1    Kylar wants to buy 16 glasses, so he will pay ...  \n",
       "2    Carla can download 2 GB/minute, so it would no...  \n",
       "3    In the first 3 hours, John drives 3*60 = 180 m...  \n",
       "4    Each year, Carlos earns 7 lemons x $1.5 per le...  \n",
       "..                                                 ...  \n",
       "219  Charisma meditates twice a day for a total of ...  \n",
       "220  Nate's dog digs 6 holes a day for 14 days, so ...  \n",
       "221  Alexandra raised $430.\\nKim raised $320 more t...  \n",
       "222  Tom's restaurant gets 6 reservations a night, ...  \n",
       "223  If James is twice as old as Dora, and Dora wil...  \n",
       "\n",
       "[224 rows x 4 columns]"
      ]
     },
     "execution_count": 15,
     "metadata": {},
     "output_type": "execute_result"
    }
   ],
   "source": [
    "errors = errors.reset_index(drop=True)\n",
    "errors"
   ]
  },
  {
   "cell_type": "code",
   "execution_count": 16,
   "metadata": {},
   "outputs": [],
   "source": [
    "errors.to_excel(\"./complex_prompt_error_labeler.xlsx\", index=False)"
   ]
  },
  {
   "cell_type": "code",
   "execution_count": null,
   "metadata": {},
   "outputs": [],
   "source": []
  }
 ],
 "metadata": {
  "kernelspec": {
   "display_name": "base",
   "language": "python",
   "name": "python3"
  },
  "language_info": {
   "codemirror_mode": {
    "name": "ipython",
    "version": 3
   },
   "file_extension": ".py",
   "mimetype": "text/x-python",
   "name": "python",
   "nbconvert_exporter": "python",
   "pygments_lexer": "ipython3",
   "version": "3.9.12"
  },
  "orig_nbformat": 4
 },
 "nbformat": 4,
 "nbformat_minor": 2
}
