{
 "cells": [
  {
   "cell_type": "code",
   "execution_count": 1,
   "metadata": {},
   "outputs": [],
   "source": [
    "import numpy as np\n",
    "import pandas as pd"
   ]
  },
  {
   "cell_type": "code",
   "execution_count": 2,
   "metadata": {},
   "outputs": [],
   "source": [
    "RESULT = r\"C:\\Users\\kaush\\Desktop\\fuck_you_chatPAL\\pal\\eval_results\\26-04-2023_211344_kaush_gsmr_with_subquestions_bastard_self_eval.chat.jsonl\""
   ]
  },
  {
   "cell_type": "code",
   "execution_count": 3,
   "metadata": {},
   "outputs": [],
   "source": [
    "results = pd.read_json(RESULT, lines=True)"
   ]
  },
  {
   "cell_type": "code",
   "execution_count": 6,
   "metadata": {},
   "outputs": [
    {
     "data": {
      "text/html": [
       "<div>\n",
       "<style scoped>\n",
       "    .dataframe tbody tr th:only-of-type {\n",
       "        vertical-align: middle;\n",
       "    }\n",
       "\n",
       "    .dataframe tbody tr th {\n",
       "        vertical-align: top;\n",
       "    }\n",
       "\n",
       "    .dataframe thead th {\n",
       "        text-align: right;\n",
       "    }\n",
       "</style>\n",
       "<table border=\"1\" class=\"dataframe\">\n",
       "  <thead>\n",
       "    <tr style=\"text-align: right;\">\n",
       "      <th></th>\n",
       "      <th>input</th>\n",
       "      <th>target</th>\n",
       "      <th>prev_answer</th>\n",
       "      <th>prev_score</th>\n",
       "      <th>prev_generation</th>\n",
       "      <th>prev_code_error</th>\n",
       "      <th>subquestions</th>\n",
       "      <th>answer</th>\n",
       "      <th>answer_post_logic_check</th>\n",
       "      <th>answer_post_sq_check</th>\n",
       "      <th>score</th>\n",
       "      <th>generation</th>\n",
       "      <th>code_error</th>\n",
       "      <th>type_error</th>\n",
       "    </tr>\n",
       "  </thead>\n",
       "  <tbody>\n",
       "    <tr>\n",
       "      <th>0</th>\n",
       "      <td>Question: Gloria is shoe shopping when she com...</td>\n",
       "      <td>104</td>\n",
       "      <td>NaN</td>\n",
       "      <td>0</td>\n",
       "      <td>[```\\ndef solution():\\n    \"\"\"Gloria is shoe s...</td>\n",
       "      <td>cannot assign to operator (&lt;string&gt;, line 13)</td>\n",
       "      <td>[How much do the two pairs of high heels cost ...</td>\n",
       "      <td>142.0</td>\n",
       "      <td>142</td>\n",
       "      <td>96.5</td>\n",
       "      <td>0</td>\n",
       "      <td>[Let's use pure math to solve the question ste...</td>\n",
       "      <td></td>\n",
       "      <td></td>\n",
       "    </tr>\n",
       "    <tr>\n",
       "      <th>1</th>\n",
       "      <td>Question: Marilyn's first record sold 10 times...</td>\n",
       "      <td>8000</td>\n",
       "      <td>NaN</td>\n",
       "      <td>0</td>\n",
       "      <td>[We can solve this problem using algebra. Let'...</td>\n",
       "      <td>invalid syntax (&lt;string&gt;, line 2)</td>\n",
       "      <td>[How many copies did Marilyn sell?, What is th...</td>\n",
       "      <td>8000.0</td>\n",
       "      <td></td>\n",
       "      <td></td>\n",
       "      <td>1</td>\n",
       "      <td>[Let's use either python or pure math equation...</td>\n",
       "      <td>invalid syntax (&lt;string&gt;, line 1)</td>\n",
       "      <td></td>\n",
       "    </tr>\n",
       "    <tr>\n",
       "      <th>2</th>\n",
       "      <td>Question: Emily has 4 kids named Amy, Jackson,...</td>\n",
       "      <td>4</td>\n",
       "      <td>NaN</td>\n",
       "      <td>0</td>\n",
       "      <td>[We can use algebra to solve this problem. Let...</td>\n",
       "      <td>invalid syntax (&lt;string&gt;, line 1)</td>\n",
       "      <td>[How old is Corey?, How old is Amy?, How old i...</td>\n",
       "      <td>4.0</td>\n",
       "      <td>4</td>\n",
       "      <td>8</td>\n",
       "      <td>1</td>\n",
       "      <td>[Let's use either python or pure math equation...</td>\n",
       "      <td></td>\n",
       "      <td></td>\n",
       "    </tr>\n",
       "    <tr>\n",
       "      <th>3</th>\n",
       "      <td>Question: Jerome had 4 friends who came to vis...</td>\n",
       "      <td>175</td>\n",
       "      <td>NaN</td>\n",
       "      <td>0</td>\n",
       "      <td>[We can solve this problem using Python as fol...</td>\n",
       "      <td>local variable 'friend4' referenced before ass...</td>\n",
       "      <td>[How many times did the second friend press th...</td>\n",
       "      <td>171.0</td>\n",
       "      <td>179.0</td>\n",
       "      <td>179.0</td>\n",
       "      <td>0</td>\n",
       "      <td>[Let's use either python or pure math equation...</td>\n",
       "      <td></td>\n",
       "      <td></td>\n",
       "    </tr>\n",
       "    <tr>\n",
       "      <th>4</th>\n",
       "      <td>Question: Frankie watches TV after he finishes...</td>\n",
       "      <td>3</td>\n",
       "      <td>NaN</td>\n",
       "      <td>0</td>\n",
       "      <td>[We can solve this problem by using algebra. L...</td>\n",
       "      <td>No module named 'sympy'</td>\n",
       "      <td>[How many hours of TV did Frankie watch on Mon...</td>\n",
       "      <td>3.0</td>\n",
       "      <td>2.0</td>\n",
       "      <td>2.0</td>\n",
       "      <td>1</td>\n",
       "      <td>[Let's use either python or pure math equation...</td>\n",
       "      <td></td>\n",
       "      <td></td>\n",
       "    </tr>\n",
       "    <tr>\n",
       "      <th>...</th>\n",
       "      <td>...</td>\n",
       "      <td>...</td>\n",
       "      <td>...</td>\n",
       "      <td>...</td>\n",
       "      <td>...</td>\n",
       "      <td>...</td>\n",
       "      <td>...</td>\n",
       "      <td>...</td>\n",
       "      <td>...</td>\n",
       "      <td>...</td>\n",
       "      <td>...</td>\n",
       "      <td>...</td>\n",
       "      <td>...</td>\n",
       "      <td>...</td>\n",
       "    </tr>\n",
       "    <tr>\n",
       "      <th>289</th>\n",
       "      <td>Question: A cup of mushrooms weighs 100 grams ...</td>\n",
       "      <td>42</td>\n",
       "      <td>42.0</td>\n",
       "      <td>1</td>\n",
       "      <td>[```\\ndef solution():\\n    \"\"\"A cup of mushroo...</td>\n",
       "      <td>None</td>\n",
       "      <td>[How many cups of mushrooms does John eat per ...</td>\n",
       "      <td>42.0</td>\n",
       "      <td>42</td>\n",
       "      <td>42</td>\n",
       "      <td>1</td>\n",
       "      <td>[```\\ndef solution():\\n    # How many cups of ...</td>\n",
       "      <td></td>\n",
       "      <td></td>\n",
       "    </tr>\n",
       "    <tr>\n",
       "      <th>290</th>\n",
       "      <td>Question: While working at the restaurant, eac...</td>\n",
       "      <td>1520</td>\n",
       "      <td>1520.0</td>\n",
       "      <td>1</td>\n",
       "      <td>[```\\ndef solution():\\n    \"\"\"While working at...</td>\n",
       "      <td>None</td>\n",
       "      <td>[How much money did Rafaela receive in tips?, ...</td>\n",
       "      <td>1520.0</td>\n",
       "      <td></td>\n",
       "      <td>1520</td>\n",
       "      <td>1</td>\n",
       "      <td>[Let's use either python or pure math equation...</td>\n",
       "      <td></td>\n",
       "      <td></td>\n",
       "    </tr>\n",
       "    <tr>\n",
       "      <th>291</th>\n",
       "      <td>Question: John rents his car out 10 times a mo...</td>\n",
       "      <td>250</td>\n",
       "      <td>250.0</td>\n",
       "      <td>1</td>\n",
       "      <td>[```\\ndef solution():\\n    \"\"\"John rents his c...</td>\n",
       "      <td>None</td>\n",
       "      <td>[How much money does John make from renting ou...</td>\n",
       "      <td>250.0</td>\n",
       "      <td>3000</td>\n",
       "      <td>3000</td>\n",
       "      <td>1</td>\n",
       "      <td>[Let's use either python or pure math equation...</td>\n",
       "      <td></td>\n",
       "      <td></td>\n",
       "    </tr>\n",
       "    <tr>\n",
       "      <th>292</th>\n",
       "      <td>Question: Frankie and Binkie went bowling toge...</td>\n",
       "      <td>195</td>\n",
       "      <td>195.0</td>\n",
       "      <td>1</td>\n",
       "      <td>[```\\ndef solution():\\n    \"\"\"Frankie and Bink...</td>\n",
       "      <td>None</td>\n",
       "      <td>[How much higher than 90 was Frankie's score?,...</td>\n",
       "      <td>195.0</td>\n",
       "      <td>195</td>\n",
       "      <td>195</td>\n",
       "      <td>1</td>\n",
       "      <td>[Let's use either python or pure math equation...</td>\n",
       "      <td></td>\n",
       "      <td></td>\n",
       "    </tr>\n",
       "    <tr>\n",
       "      <th>293</th>\n",
       "      <td>Question: My kitchen floor has a total area of...</td>\n",
       "      <td>2400</td>\n",
       "      <td>2400.0</td>\n",
       "      <td>1</td>\n",
       "      <td>[```\\ndef solution():\\n    \"\"\"My kitchen floor...</td>\n",
       "      <td>None</td>\n",
       "      <td>[How many square tiles do I need to cover the ...</td>\n",
       "      <td>2400.0</td>\n",
       "      <td>2400.0</td>\n",
       "      <td>2400.0</td>\n",
       "      <td>1</td>\n",
       "      <td>[The question above uses Python and answers ea...</td>\n",
       "      <td></td>\n",
       "      <td></td>\n",
       "    </tr>\n",
       "  </tbody>\n",
       "</table>\n",
       "<p>294 rows × 14 columns</p>\n",
       "</div>"
      ],
      "text/plain": [
       "                                                 input  target  prev_answer  \\\n",
       "0    Question: Gloria is shoe shopping when she com...     104          NaN   \n",
       "1    Question: Marilyn's first record sold 10 times...    8000          NaN   \n",
       "2    Question: Emily has 4 kids named Amy, Jackson,...       4          NaN   \n",
       "3    Question: Jerome had 4 friends who came to vis...     175          NaN   \n",
       "4    Question: Frankie watches TV after he finishes...       3          NaN   \n",
       "..                                                 ...     ...          ...   \n",
       "289  Question: A cup of mushrooms weighs 100 grams ...      42         42.0   \n",
       "290  Question: While working at the restaurant, eac...    1520       1520.0   \n",
       "291  Question: John rents his car out 10 times a mo...     250        250.0   \n",
       "292  Question: Frankie and Binkie went bowling toge...     195        195.0   \n",
       "293  Question: My kitchen floor has a total area of...    2400       2400.0   \n",
       "\n",
       "     prev_score                                    prev_generation  \\\n",
       "0             0  [```\\ndef solution():\\n    \"\"\"Gloria is shoe s...   \n",
       "1             0  [We can solve this problem using algebra. Let'...   \n",
       "2             0  [We can use algebra to solve this problem. Let...   \n",
       "3             0  [We can solve this problem using Python as fol...   \n",
       "4             0  [We can solve this problem by using algebra. L...   \n",
       "..          ...                                                ...   \n",
       "289           1  [```\\ndef solution():\\n    \"\"\"A cup of mushroo...   \n",
       "290           1  [```\\ndef solution():\\n    \"\"\"While working at...   \n",
       "291           1  [```\\ndef solution():\\n    \"\"\"John rents his c...   \n",
       "292           1  [```\\ndef solution():\\n    \"\"\"Frankie and Bink...   \n",
       "293           1  [```\\ndef solution():\\n    \"\"\"My kitchen floor...   \n",
       "\n",
       "                                       prev_code_error  \\\n",
       "0        cannot assign to operator (<string>, line 13)   \n",
       "1                    invalid syntax (<string>, line 2)   \n",
       "2                    invalid syntax (<string>, line 1)   \n",
       "3    local variable 'friend4' referenced before ass...   \n",
       "4                              No module named 'sympy'   \n",
       "..                                                 ...   \n",
       "289                                               None   \n",
       "290                                               None   \n",
       "291                                               None   \n",
       "292                                               None   \n",
       "293                                               None   \n",
       "\n",
       "                                          subquestions  answer  \\\n",
       "0    [How much do the two pairs of high heels cost ...   142.0   \n",
       "1    [How many copies did Marilyn sell?, What is th...  8000.0   \n",
       "2    [How old is Corey?, How old is Amy?, How old i...     4.0   \n",
       "3    [How many times did the second friend press th...   171.0   \n",
       "4    [How many hours of TV did Frankie watch on Mon...     3.0   \n",
       "..                                                 ...     ...   \n",
       "289  [How many cups of mushrooms does John eat per ...    42.0   \n",
       "290  [How much money did Rafaela receive in tips?, ...  1520.0   \n",
       "291  [How much money does John make from renting ou...   250.0   \n",
       "292  [How much higher than 90 was Frankie's score?,...   195.0   \n",
       "293  [How many square tiles do I need to cover the ...  2400.0   \n",
       "\n",
       "    answer_post_logic_check answer_post_sq_check  score  \\\n",
       "0                       142                 96.5      0   \n",
       "1                                                     1   \n",
       "2                         4                    8      1   \n",
       "3                     179.0                179.0      0   \n",
       "4                       2.0                  2.0      1   \n",
       "..                      ...                  ...    ...   \n",
       "289                      42                   42      1   \n",
       "290                                         1520      1   \n",
       "291                    3000                 3000      1   \n",
       "292                     195                  195      1   \n",
       "293                  2400.0               2400.0      1   \n",
       "\n",
       "                                            generation  \\\n",
       "0    [Let's use pure math to solve the question ste...   \n",
       "1    [Let's use either python or pure math equation...   \n",
       "2    [Let's use either python or pure math equation...   \n",
       "3    [Let's use either python or pure math equation...   \n",
       "4    [Let's use either python or pure math equation...   \n",
       "..                                                 ...   \n",
       "289  [```\\ndef solution():\\n    # How many cups of ...   \n",
       "290  [Let's use either python or pure math equation...   \n",
       "291  [Let's use either python or pure math equation...   \n",
       "292  [Let's use either python or pure math equation...   \n",
       "293  [The question above uses Python and answers ea...   \n",
       "\n",
       "                            code_error type_error  \n",
       "0                                                  \n",
       "1    invalid syntax (<string>, line 1)             \n",
       "2                                                  \n",
       "3                                                  \n",
       "4                                                  \n",
       "..                                 ...        ...  \n",
       "289                                                \n",
       "290                                                \n",
       "291                                                \n",
       "292                                                \n",
       "293                                                \n",
       "\n",
       "[294 rows x 14 columns]"
      ]
     },
     "execution_count": 6,
     "metadata": {},
     "output_type": "execute_result"
    }
   ],
   "source": [
    "results"
   ]
  },
  {
   "cell_type": "code",
   "execution_count": 12,
   "metadata": {},
   "outputs": [
    {
     "data": {
      "text/plain": [
       "0.5476190476190477"
      ]
     },
     "execution_count": 12,
     "metadata": {},
     "output_type": "execute_result"
    }
   ],
   "source": [
    "results[results.answer == results.target].score.value_counts()[1]/len(results)"
   ]
  },
  {
   "cell_type": "code",
   "execution_count": 13,
   "metadata": {},
   "outputs": [
    {
     "data": {
      "text/plain": [
       "Index(['input', 'target', 'prev_answer', 'prev_score', 'prev_generation',\n",
       "       'prev_code_error', 'subquestions', 'answer', 'answer_post_logic_check',\n",
       "       'answer_post_sq_check', 'score', 'generation', 'code_error',\n",
       "       'type_error'],\n",
       "      dtype='object')"
      ]
     },
     "execution_count": 13,
     "metadata": {},
     "output_type": "execute_result"
    }
   ],
   "source": [
    "results.columns"
   ]
  },
  {
   "cell_type": "code",
   "execution_count": 14,
   "metadata": {},
   "outputs": [
    {
     "data": {
      "text/plain": [
       "0.48639455782312924"
      ]
     },
     "execution_count": 14,
     "metadata": {},
     "output_type": "execute_result"
    }
   ],
   "source": [
    "results[results.answer_post_logic_check == results.target].score.value_counts()[1]/len(results)"
   ]
  },
  {
   "cell_type": "code",
   "execution_count": 15,
   "metadata": {},
   "outputs": [
    {
     "data": {
      "text/plain": [
       "0.47278911564625853"
      ]
     },
     "execution_count": 15,
     "metadata": {},
     "output_type": "execute_result"
    }
   ],
   "source": [
    "results[results.answer_post_sq_check == results.target].score.value_counts()[1]/len(results)\n"
   ]
  },
  {
   "cell_type": "code",
   "execution_count": 21,
   "metadata": {},
   "outputs": [],
   "source": [
    "results[\"eval1\"] = (results.answer == results.target)"
   ]
  },
  {
   "cell_type": "code",
   "execution_count": 22,
   "metadata": {},
   "outputs": [],
   "source": [
    "results[\"eval2\"] = (results.answer_post_logic_check == results.target)"
   ]
  },
  {
   "cell_type": "code",
   "execution_count": 23,
   "metadata": {},
   "outputs": [],
   "source": [
    "results[\"eval3\"] = (results.answer_post_sq_check == results.target)"
   ]
  },
  {
   "cell_type": "code",
   "execution_count": 26,
   "metadata": {},
   "outputs": [],
   "source": [
    "results.eval1 = results.eval1.astype(int)\n",
    "results.eval2 = results.eval2.astype(int)\n",
    "results.eval3 = results.eval3.astype(int)"
   ]
  },
  {
   "cell_type": "code",
   "execution_count": 32,
   "metadata": {},
   "outputs": [
    {
     "data": {
      "text/plain": [
       "7"
      ]
     },
     "execution_count": 32,
     "metadata": {},
     "output_type": "execute_result"
    }
   ],
   "source": [
    "len(results[ (results.eval1 == 0 ) & (results.eval3 == 1)])"
   ]
  },
  {
   "cell_type": "code",
   "execution_count": 33,
   "metadata": {},
   "outputs": [
    {
     "data": {
      "text/plain": [
       "4"
      ]
     },
     "execution_count": 33,
     "metadata": {},
     "output_type": "execute_result"
    }
   ],
   "source": [
    "len(results[ (results.eval1 == 0 ) & (results.eval2 == 1)])"
   ]
  },
  {
   "cell_type": "code",
   "execution_count": null,
   "metadata": {},
   "outputs": [],
   "source": []
  }
 ],
 "metadata": {
  "kernelspec": {
   "display_name": "base",
   "language": "python",
   "name": "python3"
  },
  "language_info": {
   "codemirror_mode": {
    "name": "ipython",
    "version": 3
   },
   "file_extension": ".py",
   "mimetype": "text/x-python",
   "name": "python",
   "nbconvert_exporter": "python",
   "pygments_lexer": "ipython3",
   "version": "3.9.12"
  },
  "orig_nbformat": 4
 },
 "nbformat": 4,
 "nbformat_minor": 2
}
