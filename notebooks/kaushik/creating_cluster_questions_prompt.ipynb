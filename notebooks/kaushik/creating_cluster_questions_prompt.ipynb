{
 "cells": [
  {
   "cell_type": "code",
   "execution_count": 1,
   "metadata": {},
   "outputs": [],
   "source": [
    "import pandas as pd\n",
    "import numpy as np\n",
    "import matplotlib.pyplot as plt\n",
    "import seaborn as sns\n",
    "sns.set_style('darkgrid')\n",
    "from sklearn.cluster import KMeans\n",
    "import tiktoken\n",
    "import openai"
   ]
  },
  {
   "cell_type": "code",
   "execution_count": 2,
   "metadata": {},
   "outputs": [],
   "source": [
    "DATA = r\"./excel_files/clustering_based_prompt_questions.csv\"\n",
    "df = pd.read_csv(DATA)"
   ]
  },
  {
   "cell_type": "code",
   "execution_count": 4,
   "metadata": {},
   "outputs": [
    {
     "data": {
      "text/html": [
       "<div>\n",
       "<style scoped>\n",
       "    .dataframe tbody tr th:only-of-type {\n",
       "        vertical-align: middle;\n",
       "    }\n",
       "\n",
       "    .dataframe tbody tr th {\n",
       "        vertical-align: top;\n",
       "    }\n",
       "\n",
       "    .dataframe thead th {\n",
       "        text-align: right;\n",
       "    }\n",
       "</style>\n",
       "<table border=\"1\" class=\"dataframe\">\n",
       "  <thead>\n",
       "    <tr style=\"text-align: right;\">\n",
       "      <th></th>\n",
       "      <th>question</th>\n",
       "    </tr>\n",
       "  </thead>\n",
       "  <tbody>\n",
       "    <tr>\n",
       "      <th>0</th>\n",
       "      <td>Hasan is packing up his apartment because he’s...</td>\n",
       "    </tr>\n",
       "    <tr>\n",
       "      <th>1</th>\n",
       "      <td>A curry house sells curries that have varying ...</td>\n",
       "    </tr>\n",
       "    <tr>\n",
       "      <th>2</th>\n",
       "      <td>Five coworkers were talking during the lunch b...</td>\n",
       "    </tr>\n",
       "    <tr>\n",
       "      <th>3</th>\n",
       "      <td>James decides to use tannerite to blow things ...</td>\n",
       "    </tr>\n",
       "    <tr>\n",
       "      <th>4</th>\n",
       "      <td>Ellie went to visit a circus with Sarah and th...</td>\n",
       "    </tr>\n",
       "    <tr>\n",
       "      <th>5</th>\n",
       "      <td>Alec is running for Class President. He thinks...</td>\n",
       "    </tr>\n",
       "    <tr>\n",
       "      <th>6</th>\n",
       "      <td>Tina is working on her homework when she reali...</td>\n",
       "    </tr>\n",
       "    <tr>\n",
       "      <th>7</th>\n",
       "      <td>Sam works at the Widget Factory, assembling Wi...</td>\n",
       "    </tr>\n",
       "    <tr>\n",
       "      <th>8</th>\n",
       "      <td>A man is trying to maximize the amount of mone...</td>\n",
       "    </tr>\n",
       "    <tr>\n",
       "      <th>9</th>\n",
       "      <td>On Saturday morning, Renata had $10 to spend. ...</td>\n",
       "    </tr>\n",
       "  </tbody>\n",
       "</table>\n",
       "</div>"
      ],
      "text/plain": [
       "                                            question\n",
       "0  Hasan is packing up his apartment because he’s...\n",
       "1  A curry house sells curries that have varying ...\n",
       "2  Five coworkers were talking during the lunch b...\n",
       "3  James decides to use tannerite to blow things ...\n",
       "4  Ellie went to visit a circus with Sarah and th...\n",
       "5  Alec is running for Class President. He thinks...\n",
       "6  Tina is working on her homework when she reali...\n",
       "7  Sam works at the Widget Factory, assembling Wi...\n",
       "8  A man is trying to maximize the amount of mone...\n",
       "9  On Saturday morning, Renata had $10 to spend. ..."
      ]
     },
     "execution_count": 4,
     "metadata": {},
     "output_type": "execute_result"
    }
   ],
   "source": [
    "df\n",
    "#we can remove 2 questions to make it 8 shot, since that is what most papers seem to use"
   ]
  },
  {
   "cell_type": "code",
   "execution_count": 18,
   "metadata": {},
   "outputs": [],
   "source": [
    "from pprint import pprint as pp"
   ]
  },
  {
   "cell_type": "code",
   "execution_count": 23,
   "metadata": {},
   "outputs": [
    {
     "name": "stdout",
     "output_type": "stream",
     "text": [
      "('Ellie went to visit a circus with Sarah and they both got lost in the house '\n",
      " 'of mirrors. They have to travel through the house of mirrors a few times '\n",
      " 'before they finally get out and when they leave, they discuss how many times '\n",
      " \"they've seen their own reflections. Sarah says that every time they were in \"\n",
      " 'the room with tall mirrors, she saw her reflection 10 times and every time '\n",
      " 'they were in the room with wide mirrors, she saw her reflection 5 times. '\n",
      " 'Ellie says that every time they were in the room with tall mirrors, she saw '\n",
      " 'her reflection 6 times and every time they were in the room with wide '\n",
      " 'mirrors she saw her reflection 3 times. They both passed through the room '\n",
      " 'with tall mirrors 3 times each and they both passed through the room with '\n",
      " 'wide mirrors 5 times each. In total, how many times did Sarah and Ellie see '\n",
      " 'their reflections?')\n"
     ]
    }
   ],
   "source": [
    "pp(df.question[4])"
   ]
  },
  {
   "cell_type": "code",
   "execution_count": null,
   "metadata": {},
   "outputs": [],
   "source": []
  }
 ],
 "metadata": {
  "kernelspec": {
   "display_name": "base",
   "language": "python",
   "name": "python3"
  },
  "language_info": {
   "codemirror_mode": {
    "name": "ipython",
    "version": 3
   },
   "file_extension": ".py",
   "mimetype": "text/x-python",
   "name": "python",
   "nbconvert_exporter": "python",
   "pygments_lexer": "ipython3",
   "version": "3.9.12"
  },
  "orig_nbformat": 4
 },
 "nbformat": 4,
 "nbformat_minor": 2
}
