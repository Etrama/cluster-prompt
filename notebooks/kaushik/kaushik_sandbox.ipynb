{
 "cells": [
  {
   "cell_type": "code",
   "execution_count": 3,
   "metadata": {},
   "outputs": [],
   "source": [
    "import numpy as np\n",
    "import pandas as pd\n",
    "import matplotlib.pyplot as plt"
   ]
  },
  {
   "cell_type": "code",
   "execution_count": 4,
   "metadata": {},
   "outputs": [],
   "source": [
    "DATA = r\"C:\\Users\\kaush\\Desktop\\fuck_you_chatPAL\\pal\\datasets\\reduced_gsm_with_sub_qs.jsonl\""
   ]
  },
  {
   "cell_type": "code",
   "execution_count": 5,
   "metadata": {},
   "outputs": [],
   "source": [
    "df = pd.read_json(DATA, lines=True)"
   ]
  },
  {
   "cell_type": "code",
   "execution_count": 7,
   "metadata": {},
   "outputs": [
    {
     "data": {
      "text/plain": [
       "Index(['input', 'target', 'prev_answer', 'prev_score', 'prev_generation',\n",
       "       'prev_code_error', 'subquestions'],\n",
       "      dtype='object')"
      ]
     },
     "execution_count": 7,
     "metadata": {},
     "output_type": "execute_result"
    }
   ],
   "source": [
    "df.columns"
   ]
  },
  {
   "cell_type": "code",
   "execution_count": 11,
   "metadata": {},
   "outputs": [
    {
     "name": "stdout",
     "output_type": "stream",
     "text": [
      "Gloria is shoe shopping when she comes across a pair of boots that fit her shoe budget. However, she has to choose between the boots and two pairs of high heels that together cost five dollars less than the boots. If one pair of heels costs $33 and the other costs twice as much, how many dollars are the boots?\n",
      "104\n",
      "nan\n",
      "0\n",
      "['```\\ndef solution():\\n    \"\"\"Gloria is shoe shopping when she comes across a pair of boots that fit her shoe budget. However, she has to choose between the boots and two pairs of high heels that together cost five dollars less than the boots. If one pair of heels costs $33 and the other costs twice as much, how many dollars are the boots?\"\"\"\\n    # Let\\'s assign variables to the given values\\n    boots_cost = x\\n    heel1_cost = 33\\n    heel2_cost = 2 * heel1_cost\\n    total_heels_cost = heel1_cost + heel2_cost\\n    total_cost_diff = total_heels_cost - boots_cost\\n    # We know that total_cost_diff is 5 dollars less than boots_cost\\n    # So, we can write an equation: total_cost_diff = boots_cost - 5\\n    # Substituting the value of total_cost_diff in the above equation\\n    boots_cost - 5 = total_heels_cost\\n    # Simplifying the equation\\n    boots_cost = total_heels_cost + 5\\n    result = boots_cost\\n    return result\\n```']\n",
      "cannot assign to operator (<string>, line 13)\n",
      "['How much do the two pairs of high heels cost in total?', 'How much does the more expensive pair of high heels cost?', 'What is the cost of the boots?', 'How many dollars are the boots?']\n"
     ]
    }
   ],
   "source": [
    "for col in df.columns:\n",
    "    print(df[col][0])"
   ]
  },
  {
   "cell_type": "code",
   "execution_count": 27,
   "metadata": {},
   "outputs": [],
   "source": [
    "all_questions = df[\"input\"].tolist()"
   ]
  },
  {
   "cell_type": "code",
   "execution_count": 28,
   "metadata": {},
   "outputs": [],
   "source": [
    "all_sub_questions = df[\"subquestions\"].tolist()"
   ]
  },
  {
   "cell_type": "code",
   "execution_count": 29,
   "metadata": {},
   "outputs": [
    {
     "data": {
      "text/plain": [
       "294"
      ]
     },
     "execution_count": 29,
     "metadata": {},
     "output_type": "execute_result"
    }
   ],
   "source": [
    "len(questions)"
   ]
  },
  {
   "cell_type": "code",
   "execution_count": 30,
   "metadata": {},
   "outputs": [
    {
     "data": {
      "text/plain": [
       "294"
      ]
     },
     "execution_count": 30,
     "metadata": {},
     "output_type": "execute_result"
    }
   ],
   "source": [
    "len(sub_questions)"
   ]
  },
  {
   "cell_type": "code",
   "execution_count": 31,
   "metadata": {},
   "outputs": [],
   "source": [
    "final_questions = []"
   ]
  },
  {
   "cell_type": "code",
   "execution_count": 33,
   "metadata": {},
   "outputs": [],
   "source": [
    "for question, sub_questions in zip(all_questions, all_sub_questions):\n",
    "    reformed_question = \"Question: \" + question + \"\\n\"\n",
    "    for i, sub_question in enumerate(sub_questions):\n",
    "        reformed_question = reformed_question + f\"Sub-Question {i+1}. \" + sub_question + \"\\n\"\n",
    "    final_questions.append(reformed_question)"
   ]
  },
  {
   "cell_type": "code",
   "execution_count": 41,
   "metadata": {},
   "outputs": [
    {
     "name": "stdout",
     "output_type": "stream",
     "text": [
      "Question: Ava and Emma want to know who is better at the new video game Ava got for her birthday. They are each going to play one level and whoever has the highest score wins. They receive 10 points for every enemy they jump on, 5 points for each berry they collect, and 30 points for every second left on the timer when they finish the level. If Ava jumps on 8 more enemies than Emma and collects 3 more berries, but finishes the level 4 seconds slower, what is the difference between their two scores?\n",
      "Sub-Question 1. How many enemies did Emma jump on?\n",
      "Sub-Question 2. How many berries did Ava collect?\n",
      "Sub-Question 3. How many seconds did Ava take to finish the level?\n",
      "Sub-Question 4. How many points did Ava score in total?\n",
      "Sub-Question 5. How many points did Emma score in total?”\n",
      "Sub-Question 6. What is the difference between their two scores?\n",
      "\n"
     ]
    }
   ],
   "source": [
    "print(final_questions[22])"
   ]
  },
  {
   "cell_type": "code",
   "execution_count": 55,
   "metadata": {},
   "outputs": [],
   "source": [
    "new_df = pd.DataFrame(final_questions)"
   ]
  },
  {
   "cell_type": "code",
   "execution_count": 56,
   "metadata": {},
   "outputs": [],
   "source": [
    "new_df = new_df.rename(columns={0:\"input\"})"
   ]
  },
  {
   "cell_type": "code",
   "execution_count": 58,
   "metadata": {},
   "outputs": [],
   "source": [
    "df[\"new_input\"] = final_questions"
   ]
  },
  {
   "cell_type": "code",
   "execution_count": 59,
   "metadata": {},
   "outputs": [
    {
     "data": {
      "text/html": [
       "<div>\n",
       "<style scoped>\n",
       "    .dataframe tbody tr th:only-of-type {\n",
       "        vertical-align: middle;\n",
       "    }\n",
       "\n",
       "    .dataframe tbody tr th {\n",
       "        vertical-align: top;\n",
       "    }\n",
       "\n",
       "    .dataframe thead th {\n",
       "        text-align: right;\n",
       "    }\n",
       "</style>\n",
       "<table border=\"1\" class=\"dataframe\">\n",
       "  <thead>\n",
       "    <tr style=\"text-align: right;\">\n",
       "      <th></th>\n",
       "      <th>input</th>\n",
       "      <th>target</th>\n",
       "      <th>prev_answer</th>\n",
       "      <th>prev_score</th>\n",
       "      <th>prev_generation</th>\n",
       "      <th>prev_code_error</th>\n",
       "      <th>subquestions</th>\n",
       "      <th>new_input</th>\n",
       "    </tr>\n",
       "  </thead>\n",
       "  <tbody>\n",
       "    <tr>\n",
       "      <th>0</th>\n",
       "      <td>Gloria is shoe shopping when she comes across ...</td>\n",
       "      <td>104</td>\n",
       "      <td>NaN</td>\n",
       "      <td>0</td>\n",
       "      <td>[```\\ndef solution():\\n    \"\"\"Gloria is shoe s...</td>\n",
       "      <td>cannot assign to operator (&lt;string&gt;, line 13)</td>\n",
       "      <td>[How much do the two pairs of high heels cost ...</td>\n",
       "      <td>Question: Gloria is shoe shopping when she com...</td>\n",
       "    </tr>\n",
       "    <tr>\n",
       "      <th>1</th>\n",
       "      <td>Marilyn's first record sold 10 times as many c...</td>\n",
       "      <td>8000</td>\n",
       "      <td>NaN</td>\n",
       "      <td>0</td>\n",
       "      <td>[We can solve this problem using algebra. Let'...</td>\n",
       "      <td>invalid syntax (&lt;string&gt;, line 2)</td>\n",
       "      <td>[How many copies did Marilyn sell?, What is th...</td>\n",
       "      <td>Question: Marilyn's first record sold 10 times...</td>\n",
       "    </tr>\n",
       "    <tr>\n",
       "      <th>2</th>\n",
       "      <td>Emily has 4 kids named Amy, Jackson, Corey, an...</td>\n",
       "      <td>4</td>\n",
       "      <td>NaN</td>\n",
       "      <td>0</td>\n",
       "      <td>[We can use algebra to solve this problem. Let...</td>\n",
       "      <td>invalid syntax (&lt;string&gt;, line 1)</td>\n",
       "      <td>[How old is Corey?, How old is Amy?, How old i...</td>\n",
       "      <td>Question: Emily has 4 kids named Amy, Jackson,...</td>\n",
       "    </tr>\n",
       "    <tr>\n",
       "      <th>3</th>\n",
       "      <td>Jerome had 4 friends who came to visit him on ...</td>\n",
       "      <td>175</td>\n",
       "      <td>NaN</td>\n",
       "      <td>0</td>\n",
       "      <td>[We can solve this problem using Python as fol...</td>\n",
       "      <td>local variable 'friend4' referenced before ass...</td>\n",
       "      <td>[How many times did the second friend press th...</td>\n",
       "      <td>Question: Jerome had 4 friends who came to vis...</td>\n",
       "    </tr>\n",
       "    <tr>\n",
       "      <th>4</th>\n",
       "      <td>Frankie watches TV after he finishes his homew...</td>\n",
       "      <td>3</td>\n",
       "      <td>NaN</td>\n",
       "      <td>0</td>\n",
       "      <td>[We can solve this problem by using algebra. L...</td>\n",
       "      <td>No module named 'sympy'</td>\n",
       "      <td>[How many hours of TV did Frankie watch on Mon...</td>\n",
       "      <td>Question: Frankie watches TV after he finishes...</td>\n",
       "    </tr>\n",
       "    <tr>\n",
       "      <th>...</th>\n",
       "      <td>...</td>\n",
       "      <td>...</td>\n",
       "      <td>...</td>\n",
       "      <td>...</td>\n",
       "      <td>...</td>\n",
       "      <td>...</td>\n",
       "      <td>...</td>\n",
       "      <td>...</td>\n",
       "    </tr>\n",
       "    <tr>\n",
       "      <th>289</th>\n",
       "      <td>A cup of mushrooms weighs 100 grams and has 3 ...</td>\n",
       "      <td>42</td>\n",
       "      <td>42.0</td>\n",
       "      <td>1</td>\n",
       "      <td>[```\\ndef solution():\\n    \"\"\"A cup of mushroo...</td>\n",
       "      <td>None</td>\n",
       "      <td>[How many cups of mushrooms does John eat per ...</td>\n",
       "      <td>Question: A cup of mushrooms weighs 100 grams ...</td>\n",
       "    </tr>\n",
       "    <tr>\n",
       "      <th>290</th>\n",
       "      <td>While working at the restaurant, each of the f...</td>\n",
       "      <td>1520</td>\n",
       "      <td>1520.0</td>\n",
       "      <td>1</td>\n",
       "      <td>[```\\ndef solution():\\n    \"\"\"While working at...</td>\n",
       "      <td>None</td>\n",
       "      <td>[How much money did Rafaela receive in tips?, ...</td>\n",
       "      <td>Question: While working at the restaurant, eac...</td>\n",
       "    </tr>\n",
       "    <tr>\n",
       "      <th>291</th>\n",
       "      <td>John rents his car out 10 times a month for 3 ...</td>\n",
       "      <td>250</td>\n",
       "      <td>250.0</td>\n",
       "      <td>1</td>\n",
       "      <td>[```\\ndef solution():\\n    \"\"\"John rents his c...</td>\n",
       "      <td>None</td>\n",
       "      <td>[How much money does John make from renting ou...</td>\n",
       "      <td>Question: John rents his car out 10 times a mo...</td>\n",
       "    </tr>\n",
       "    <tr>\n",
       "      <th>292</th>\n",
       "      <td>Frankie and Binkie went bowling together.  Fra...</td>\n",
       "      <td>195</td>\n",
       "      <td>195.0</td>\n",
       "      <td>1</td>\n",
       "      <td>[```\\ndef solution():\\n    \"\"\"Frankie and Bink...</td>\n",
       "      <td>None</td>\n",
       "      <td>[How much higher than 90 was Frankie's score?,...</td>\n",
       "      <td>Question: Frankie and Binkie went bowling toge...</td>\n",
       "    </tr>\n",
       "    <tr>\n",
       "      <th>293</th>\n",
       "      <td>My kitchen floor has a total area of 200 SqFt....</td>\n",
       "      <td>2400</td>\n",
       "      <td>2400.0</td>\n",
       "      <td>1</td>\n",
       "      <td>[```\\ndef solution():\\n    \"\"\"My kitchen floor...</td>\n",
       "      <td>None</td>\n",
       "      <td>[How many square tiles do I need to cover the ...</td>\n",
       "      <td>Question: My kitchen floor has a total area of...</td>\n",
       "    </tr>\n",
       "  </tbody>\n",
       "</table>\n",
       "<p>294 rows × 8 columns</p>\n",
       "</div>"
      ],
      "text/plain": [
       "                                                 input  target  prev_answer  \\\n",
       "0    Gloria is shoe shopping when she comes across ...     104          NaN   \n",
       "1    Marilyn's first record sold 10 times as many c...    8000          NaN   \n",
       "2    Emily has 4 kids named Amy, Jackson, Corey, an...       4          NaN   \n",
       "3    Jerome had 4 friends who came to visit him on ...     175          NaN   \n",
       "4    Frankie watches TV after he finishes his homew...       3          NaN   \n",
       "..                                                 ...     ...          ...   \n",
       "289  A cup of mushrooms weighs 100 grams and has 3 ...      42         42.0   \n",
       "290  While working at the restaurant, each of the f...    1520       1520.0   \n",
       "291  John rents his car out 10 times a month for 3 ...     250        250.0   \n",
       "292  Frankie and Binkie went bowling together.  Fra...     195        195.0   \n",
       "293  My kitchen floor has a total area of 200 SqFt....    2400       2400.0   \n",
       "\n",
       "     prev_score                                    prev_generation  \\\n",
       "0             0  [```\\ndef solution():\\n    \"\"\"Gloria is shoe s...   \n",
       "1             0  [We can solve this problem using algebra. Let'...   \n",
       "2             0  [We can use algebra to solve this problem. Let...   \n",
       "3             0  [We can solve this problem using Python as fol...   \n",
       "4             0  [We can solve this problem by using algebra. L...   \n",
       "..          ...                                                ...   \n",
       "289           1  [```\\ndef solution():\\n    \"\"\"A cup of mushroo...   \n",
       "290           1  [```\\ndef solution():\\n    \"\"\"While working at...   \n",
       "291           1  [```\\ndef solution():\\n    \"\"\"John rents his c...   \n",
       "292           1  [```\\ndef solution():\\n    \"\"\"Frankie and Bink...   \n",
       "293           1  [```\\ndef solution():\\n    \"\"\"My kitchen floor...   \n",
       "\n",
       "                                       prev_code_error  \\\n",
       "0        cannot assign to operator (<string>, line 13)   \n",
       "1                    invalid syntax (<string>, line 2)   \n",
       "2                    invalid syntax (<string>, line 1)   \n",
       "3    local variable 'friend4' referenced before ass...   \n",
       "4                              No module named 'sympy'   \n",
       "..                                                 ...   \n",
       "289                                               None   \n",
       "290                                               None   \n",
       "291                                               None   \n",
       "292                                               None   \n",
       "293                                               None   \n",
       "\n",
       "                                          subquestions  \\\n",
       "0    [How much do the two pairs of high heels cost ...   \n",
       "1    [How many copies did Marilyn sell?, What is th...   \n",
       "2    [How old is Corey?, How old is Amy?, How old i...   \n",
       "3    [How many times did the second friend press th...   \n",
       "4    [How many hours of TV did Frankie watch on Mon...   \n",
       "..                                                 ...   \n",
       "289  [How many cups of mushrooms does John eat per ...   \n",
       "290  [How much money did Rafaela receive in tips?, ...   \n",
       "291  [How much money does John make from renting ou...   \n",
       "292  [How much higher than 90 was Frankie's score?,...   \n",
       "293  [How many square tiles do I need to cover the ...   \n",
       "\n",
       "                                             new_input  \n",
       "0    Question: Gloria is shoe shopping when she com...  \n",
       "1    Question: Marilyn's first record sold 10 times...  \n",
       "2    Question: Emily has 4 kids named Amy, Jackson,...  \n",
       "3    Question: Jerome had 4 friends who came to vis...  \n",
       "4    Question: Frankie watches TV after he finishes...  \n",
       "..                                                 ...  \n",
       "289  Question: A cup of mushrooms weighs 100 grams ...  \n",
       "290  Question: While working at the restaurant, eac...  \n",
       "291  Question: John rents his car out 10 times a mo...  \n",
       "292  Question: Frankie and Binkie went bowling toge...  \n",
       "293  Question: My kitchen floor has a total area of...  \n",
       "\n",
       "[294 rows x 8 columns]"
      ]
     },
     "execution_count": 59,
     "metadata": {},
     "output_type": "execute_result"
    }
   ],
   "source": [
    "df"
   ]
  },
  {
   "cell_type": "code",
   "execution_count": 60,
   "metadata": {},
   "outputs": [],
   "source": [
    "df = df.drop(columns=[\"input\"])"
   ]
  },
  {
   "cell_type": "code",
   "execution_count": 62,
   "metadata": {},
   "outputs": [],
   "source": [
    "df = df.rename(columns={\"new_input\":\"input\"})"
   ]
  },
  {
   "cell_type": "code",
   "execution_count": 63,
   "metadata": {},
   "outputs": [
    {
     "data": {
      "text/html": [
       "<div>\n",
       "<style scoped>\n",
       "    .dataframe tbody tr th:only-of-type {\n",
       "        vertical-align: middle;\n",
       "    }\n",
       "\n",
       "    .dataframe tbody tr th {\n",
       "        vertical-align: top;\n",
       "    }\n",
       "\n",
       "    .dataframe thead th {\n",
       "        text-align: right;\n",
       "    }\n",
       "</style>\n",
       "<table border=\"1\" class=\"dataframe\">\n",
       "  <thead>\n",
       "    <tr style=\"text-align: right;\">\n",
       "      <th></th>\n",
       "      <th>target</th>\n",
       "      <th>prev_answer</th>\n",
       "      <th>prev_score</th>\n",
       "      <th>prev_generation</th>\n",
       "      <th>prev_code_error</th>\n",
       "      <th>subquestions</th>\n",
       "      <th>input</th>\n",
       "    </tr>\n",
       "  </thead>\n",
       "  <tbody>\n",
       "    <tr>\n",
       "      <th>0</th>\n",
       "      <td>104</td>\n",
       "      <td>NaN</td>\n",
       "      <td>0</td>\n",
       "      <td>[```\\ndef solution():\\n    \"\"\"Gloria is shoe s...</td>\n",
       "      <td>cannot assign to operator (&lt;string&gt;, line 13)</td>\n",
       "      <td>[How much do the two pairs of high heels cost ...</td>\n",
       "      <td>Question: Gloria is shoe shopping when she com...</td>\n",
       "    </tr>\n",
       "    <tr>\n",
       "      <th>1</th>\n",
       "      <td>8000</td>\n",
       "      <td>NaN</td>\n",
       "      <td>0</td>\n",
       "      <td>[We can solve this problem using algebra. Let'...</td>\n",
       "      <td>invalid syntax (&lt;string&gt;, line 2)</td>\n",
       "      <td>[How many copies did Marilyn sell?, What is th...</td>\n",
       "      <td>Question: Marilyn's first record sold 10 times...</td>\n",
       "    </tr>\n",
       "    <tr>\n",
       "      <th>2</th>\n",
       "      <td>4</td>\n",
       "      <td>NaN</td>\n",
       "      <td>0</td>\n",
       "      <td>[We can use algebra to solve this problem. Let...</td>\n",
       "      <td>invalid syntax (&lt;string&gt;, line 1)</td>\n",
       "      <td>[How old is Corey?, How old is Amy?, How old i...</td>\n",
       "      <td>Question: Emily has 4 kids named Amy, Jackson,...</td>\n",
       "    </tr>\n",
       "    <tr>\n",
       "      <th>3</th>\n",
       "      <td>175</td>\n",
       "      <td>NaN</td>\n",
       "      <td>0</td>\n",
       "      <td>[We can solve this problem using Python as fol...</td>\n",
       "      <td>local variable 'friend4' referenced before ass...</td>\n",
       "      <td>[How many times did the second friend press th...</td>\n",
       "      <td>Question: Jerome had 4 friends who came to vis...</td>\n",
       "    </tr>\n",
       "    <tr>\n",
       "      <th>4</th>\n",
       "      <td>3</td>\n",
       "      <td>NaN</td>\n",
       "      <td>0</td>\n",
       "      <td>[We can solve this problem by using algebra. L...</td>\n",
       "      <td>No module named 'sympy'</td>\n",
       "      <td>[How many hours of TV did Frankie watch on Mon...</td>\n",
       "      <td>Question: Frankie watches TV after he finishes...</td>\n",
       "    </tr>\n",
       "    <tr>\n",
       "      <th>...</th>\n",
       "      <td>...</td>\n",
       "      <td>...</td>\n",
       "      <td>...</td>\n",
       "      <td>...</td>\n",
       "      <td>...</td>\n",
       "      <td>...</td>\n",
       "      <td>...</td>\n",
       "    </tr>\n",
       "    <tr>\n",
       "      <th>289</th>\n",
       "      <td>42</td>\n",
       "      <td>42.0</td>\n",
       "      <td>1</td>\n",
       "      <td>[```\\ndef solution():\\n    \"\"\"A cup of mushroo...</td>\n",
       "      <td>None</td>\n",
       "      <td>[How many cups of mushrooms does John eat per ...</td>\n",
       "      <td>Question: A cup of mushrooms weighs 100 grams ...</td>\n",
       "    </tr>\n",
       "    <tr>\n",
       "      <th>290</th>\n",
       "      <td>1520</td>\n",
       "      <td>1520.0</td>\n",
       "      <td>1</td>\n",
       "      <td>[```\\ndef solution():\\n    \"\"\"While working at...</td>\n",
       "      <td>None</td>\n",
       "      <td>[How much money did Rafaela receive in tips?, ...</td>\n",
       "      <td>Question: While working at the restaurant, eac...</td>\n",
       "    </tr>\n",
       "    <tr>\n",
       "      <th>291</th>\n",
       "      <td>250</td>\n",
       "      <td>250.0</td>\n",
       "      <td>1</td>\n",
       "      <td>[```\\ndef solution():\\n    \"\"\"John rents his c...</td>\n",
       "      <td>None</td>\n",
       "      <td>[How much money does John make from renting ou...</td>\n",
       "      <td>Question: John rents his car out 10 times a mo...</td>\n",
       "    </tr>\n",
       "    <tr>\n",
       "      <th>292</th>\n",
       "      <td>195</td>\n",
       "      <td>195.0</td>\n",
       "      <td>1</td>\n",
       "      <td>[```\\ndef solution():\\n    \"\"\"Frankie and Bink...</td>\n",
       "      <td>None</td>\n",
       "      <td>[How much higher than 90 was Frankie's score?,...</td>\n",
       "      <td>Question: Frankie and Binkie went bowling toge...</td>\n",
       "    </tr>\n",
       "    <tr>\n",
       "      <th>293</th>\n",
       "      <td>2400</td>\n",
       "      <td>2400.0</td>\n",
       "      <td>1</td>\n",
       "      <td>[```\\ndef solution():\\n    \"\"\"My kitchen floor...</td>\n",
       "      <td>None</td>\n",
       "      <td>[How many square tiles do I need to cover the ...</td>\n",
       "      <td>Question: My kitchen floor has a total area of...</td>\n",
       "    </tr>\n",
       "  </tbody>\n",
       "</table>\n",
       "<p>294 rows × 7 columns</p>\n",
       "</div>"
      ],
      "text/plain": [
       "     target  prev_answer  prev_score  \\\n",
       "0       104          NaN           0   \n",
       "1      8000          NaN           0   \n",
       "2         4          NaN           0   \n",
       "3       175          NaN           0   \n",
       "4         3          NaN           0   \n",
       "..      ...          ...         ...   \n",
       "289      42         42.0           1   \n",
       "290    1520       1520.0           1   \n",
       "291     250        250.0           1   \n",
       "292     195        195.0           1   \n",
       "293    2400       2400.0           1   \n",
       "\n",
       "                                       prev_generation  \\\n",
       "0    [```\\ndef solution():\\n    \"\"\"Gloria is shoe s...   \n",
       "1    [We can solve this problem using algebra. Let'...   \n",
       "2    [We can use algebra to solve this problem. Let...   \n",
       "3    [We can solve this problem using Python as fol...   \n",
       "4    [We can solve this problem by using algebra. L...   \n",
       "..                                                 ...   \n",
       "289  [```\\ndef solution():\\n    \"\"\"A cup of mushroo...   \n",
       "290  [```\\ndef solution():\\n    \"\"\"While working at...   \n",
       "291  [```\\ndef solution():\\n    \"\"\"John rents his c...   \n",
       "292  [```\\ndef solution():\\n    \"\"\"Frankie and Bink...   \n",
       "293  [```\\ndef solution():\\n    \"\"\"My kitchen floor...   \n",
       "\n",
       "                                       prev_code_error  \\\n",
       "0        cannot assign to operator (<string>, line 13)   \n",
       "1                    invalid syntax (<string>, line 2)   \n",
       "2                    invalid syntax (<string>, line 1)   \n",
       "3    local variable 'friend4' referenced before ass...   \n",
       "4                              No module named 'sympy'   \n",
       "..                                                 ...   \n",
       "289                                               None   \n",
       "290                                               None   \n",
       "291                                               None   \n",
       "292                                               None   \n",
       "293                                               None   \n",
       "\n",
       "                                          subquestions  \\\n",
       "0    [How much do the two pairs of high heels cost ...   \n",
       "1    [How many copies did Marilyn sell?, What is th...   \n",
       "2    [How old is Corey?, How old is Amy?, How old i...   \n",
       "3    [How many times did the second friend press th...   \n",
       "4    [How many hours of TV did Frankie watch on Mon...   \n",
       "..                                                 ...   \n",
       "289  [How many cups of mushrooms does John eat per ...   \n",
       "290  [How much money did Rafaela receive in tips?, ...   \n",
       "291  [How much money does John make from renting ou...   \n",
       "292  [How much higher than 90 was Frankie's score?,...   \n",
       "293  [How many square tiles do I need to cover the ...   \n",
       "\n",
       "                                                 input  \n",
       "0    Question: Gloria is shoe shopping when she com...  \n",
       "1    Question: Marilyn's first record sold 10 times...  \n",
       "2    Question: Emily has 4 kids named Amy, Jackson,...  \n",
       "3    Question: Jerome had 4 friends who came to vis...  \n",
       "4    Question: Frankie watches TV after he finishes...  \n",
       "..                                                 ...  \n",
       "289  Question: A cup of mushrooms weighs 100 grams ...  \n",
       "290  Question: While working at the restaurant, eac...  \n",
       "291  Question: John rents his car out 10 times a mo...  \n",
       "292  Question: Frankie and Binkie went bowling toge...  \n",
       "293  Question: My kitchen floor has a total area of...  \n",
       "\n",
       "[294 rows x 7 columns]"
      ]
     },
     "execution_count": 63,
     "metadata": {},
     "output_type": "execute_result"
    }
   ],
   "source": [
    "df"
   ]
  },
  {
   "cell_type": "code",
   "execution_count": 64,
   "metadata": {},
   "outputs": [
    {
     "data": {
      "text/plain": [
       "Index(['target', 'prev_answer', 'prev_score', 'prev_generation',\n",
       "       'prev_code_error', 'subquestions', 'input'],\n",
       "      dtype='object')"
      ]
     },
     "execution_count": 64,
     "metadata": {},
     "output_type": "execute_result"
    }
   ],
   "source": [
    "df.columns"
   ]
  },
  {
   "cell_type": "code",
   "execution_count": 66,
   "metadata": {},
   "outputs": [],
   "source": [
    "cols = ['input','target', 'prev_answer', 'prev_score', 'prev_generation',\n",
    "       'prev_code_error', 'subquestions']"
   ]
  },
  {
   "cell_type": "code",
   "execution_count": 67,
   "metadata": {},
   "outputs": [],
   "source": [
    "df = df[cols]"
   ]
  },
  {
   "cell_type": "code",
   "execution_count": 68,
   "metadata": {},
   "outputs": [
    {
     "data": {
      "text/html": [
       "<div>\n",
       "<style scoped>\n",
       "    .dataframe tbody tr th:only-of-type {\n",
       "        vertical-align: middle;\n",
       "    }\n",
       "\n",
       "    .dataframe tbody tr th {\n",
       "        vertical-align: top;\n",
       "    }\n",
       "\n",
       "    .dataframe thead th {\n",
       "        text-align: right;\n",
       "    }\n",
       "</style>\n",
       "<table border=\"1\" class=\"dataframe\">\n",
       "  <thead>\n",
       "    <tr style=\"text-align: right;\">\n",
       "      <th></th>\n",
       "      <th>input</th>\n",
       "      <th>target</th>\n",
       "      <th>prev_answer</th>\n",
       "      <th>prev_score</th>\n",
       "      <th>prev_generation</th>\n",
       "      <th>prev_code_error</th>\n",
       "      <th>subquestions</th>\n",
       "    </tr>\n",
       "  </thead>\n",
       "  <tbody>\n",
       "    <tr>\n",
       "      <th>0</th>\n",
       "      <td>Question: Gloria is shoe shopping when she com...</td>\n",
       "      <td>104</td>\n",
       "      <td>NaN</td>\n",
       "      <td>0</td>\n",
       "      <td>[```\\ndef solution():\\n    \"\"\"Gloria is shoe s...</td>\n",
       "      <td>cannot assign to operator (&lt;string&gt;, line 13)</td>\n",
       "      <td>[How much do the two pairs of high heels cost ...</td>\n",
       "    </tr>\n",
       "    <tr>\n",
       "      <th>1</th>\n",
       "      <td>Question: Marilyn's first record sold 10 times...</td>\n",
       "      <td>8000</td>\n",
       "      <td>NaN</td>\n",
       "      <td>0</td>\n",
       "      <td>[We can solve this problem using algebra. Let'...</td>\n",
       "      <td>invalid syntax (&lt;string&gt;, line 2)</td>\n",
       "      <td>[How many copies did Marilyn sell?, What is th...</td>\n",
       "    </tr>\n",
       "    <tr>\n",
       "      <th>2</th>\n",
       "      <td>Question: Emily has 4 kids named Amy, Jackson,...</td>\n",
       "      <td>4</td>\n",
       "      <td>NaN</td>\n",
       "      <td>0</td>\n",
       "      <td>[We can use algebra to solve this problem. Let...</td>\n",
       "      <td>invalid syntax (&lt;string&gt;, line 1)</td>\n",
       "      <td>[How old is Corey?, How old is Amy?, How old i...</td>\n",
       "    </tr>\n",
       "    <tr>\n",
       "      <th>3</th>\n",
       "      <td>Question: Jerome had 4 friends who came to vis...</td>\n",
       "      <td>175</td>\n",
       "      <td>NaN</td>\n",
       "      <td>0</td>\n",
       "      <td>[We can solve this problem using Python as fol...</td>\n",
       "      <td>local variable 'friend4' referenced before ass...</td>\n",
       "      <td>[How many times did the second friend press th...</td>\n",
       "    </tr>\n",
       "    <tr>\n",
       "      <th>4</th>\n",
       "      <td>Question: Frankie watches TV after he finishes...</td>\n",
       "      <td>3</td>\n",
       "      <td>NaN</td>\n",
       "      <td>0</td>\n",
       "      <td>[We can solve this problem by using algebra. L...</td>\n",
       "      <td>No module named 'sympy'</td>\n",
       "      <td>[How many hours of TV did Frankie watch on Mon...</td>\n",
       "    </tr>\n",
       "    <tr>\n",
       "      <th>...</th>\n",
       "      <td>...</td>\n",
       "      <td>...</td>\n",
       "      <td>...</td>\n",
       "      <td>...</td>\n",
       "      <td>...</td>\n",
       "      <td>...</td>\n",
       "      <td>...</td>\n",
       "    </tr>\n",
       "    <tr>\n",
       "      <th>289</th>\n",
       "      <td>Question: A cup of mushrooms weighs 100 grams ...</td>\n",
       "      <td>42</td>\n",
       "      <td>42.0</td>\n",
       "      <td>1</td>\n",
       "      <td>[```\\ndef solution():\\n    \"\"\"A cup of mushroo...</td>\n",
       "      <td>None</td>\n",
       "      <td>[How many cups of mushrooms does John eat per ...</td>\n",
       "    </tr>\n",
       "    <tr>\n",
       "      <th>290</th>\n",
       "      <td>Question: While working at the restaurant, eac...</td>\n",
       "      <td>1520</td>\n",
       "      <td>1520.0</td>\n",
       "      <td>1</td>\n",
       "      <td>[```\\ndef solution():\\n    \"\"\"While working at...</td>\n",
       "      <td>None</td>\n",
       "      <td>[How much money did Rafaela receive in tips?, ...</td>\n",
       "    </tr>\n",
       "    <tr>\n",
       "      <th>291</th>\n",
       "      <td>Question: John rents his car out 10 times a mo...</td>\n",
       "      <td>250</td>\n",
       "      <td>250.0</td>\n",
       "      <td>1</td>\n",
       "      <td>[```\\ndef solution():\\n    \"\"\"John rents his c...</td>\n",
       "      <td>None</td>\n",
       "      <td>[How much money does John make from renting ou...</td>\n",
       "    </tr>\n",
       "    <tr>\n",
       "      <th>292</th>\n",
       "      <td>Question: Frankie and Binkie went bowling toge...</td>\n",
       "      <td>195</td>\n",
       "      <td>195.0</td>\n",
       "      <td>1</td>\n",
       "      <td>[```\\ndef solution():\\n    \"\"\"Frankie and Bink...</td>\n",
       "      <td>None</td>\n",
       "      <td>[How much higher than 90 was Frankie's score?,...</td>\n",
       "    </tr>\n",
       "    <tr>\n",
       "      <th>293</th>\n",
       "      <td>Question: My kitchen floor has a total area of...</td>\n",
       "      <td>2400</td>\n",
       "      <td>2400.0</td>\n",
       "      <td>1</td>\n",
       "      <td>[```\\ndef solution():\\n    \"\"\"My kitchen floor...</td>\n",
       "      <td>None</td>\n",
       "      <td>[How many square tiles do I need to cover the ...</td>\n",
       "    </tr>\n",
       "  </tbody>\n",
       "</table>\n",
       "<p>294 rows × 7 columns</p>\n",
       "</div>"
      ],
      "text/plain": [
       "                                                 input  target  prev_answer  \\\n",
       "0    Question: Gloria is shoe shopping when she com...     104          NaN   \n",
       "1    Question: Marilyn's first record sold 10 times...    8000          NaN   \n",
       "2    Question: Emily has 4 kids named Amy, Jackson,...       4          NaN   \n",
       "3    Question: Jerome had 4 friends who came to vis...     175          NaN   \n",
       "4    Question: Frankie watches TV after he finishes...       3          NaN   \n",
       "..                                                 ...     ...          ...   \n",
       "289  Question: A cup of mushrooms weighs 100 grams ...      42         42.0   \n",
       "290  Question: While working at the restaurant, eac...    1520       1520.0   \n",
       "291  Question: John rents his car out 10 times a mo...     250        250.0   \n",
       "292  Question: Frankie and Binkie went bowling toge...     195        195.0   \n",
       "293  Question: My kitchen floor has a total area of...    2400       2400.0   \n",
       "\n",
       "     prev_score                                    prev_generation  \\\n",
       "0             0  [```\\ndef solution():\\n    \"\"\"Gloria is shoe s...   \n",
       "1             0  [We can solve this problem using algebra. Let'...   \n",
       "2             0  [We can use algebra to solve this problem. Let...   \n",
       "3             0  [We can solve this problem using Python as fol...   \n",
       "4             0  [We can solve this problem by using algebra. L...   \n",
       "..          ...                                                ...   \n",
       "289           1  [```\\ndef solution():\\n    \"\"\"A cup of mushroo...   \n",
       "290           1  [```\\ndef solution():\\n    \"\"\"While working at...   \n",
       "291           1  [```\\ndef solution():\\n    \"\"\"John rents his c...   \n",
       "292           1  [```\\ndef solution():\\n    \"\"\"Frankie and Bink...   \n",
       "293           1  [```\\ndef solution():\\n    \"\"\"My kitchen floor...   \n",
       "\n",
       "                                       prev_code_error  \\\n",
       "0        cannot assign to operator (<string>, line 13)   \n",
       "1                    invalid syntax (<string>, line 2)   \n",
       "2                    invalid syntax (<string>, line 1)   \n",
       "3    local variable 'friend4' referenced before ass...   \n",
       "4                              No module named 'sympy'   \n",
       "..                                                 ...   \n",
       "289                                               None   \n",
       "290                                               None   \n",
       "291                                               None   \n",
       "292                                               None   \n",
       "293                                               None   \n",
       "\n",
       "                                          subquestions  \n",
       "0    [How much do the two pairs of high heels cost ...  \n",
       "1    [How many copies did Marilyn sell?, What is th...  \n",
       "2    [How old is Corey?, How old is Amy?, How old i...  \n",
       "3    [How many times did the second friend press th...  \n",
       "4    [How many hours of TV did Frankie watch on Mon...  \n",
       "..                                                 ...  \n",
       "289  [How many cups of mushrooms does John eat per ...  \n",
       "290  [How much money did Rafaela receive in tips?, ...  \n",
       "291  [How much money does John make from renting ou...  \n",
       "292  [How much higher than 90 was Frankie's score?,...  \n",
       "293  [How many square tiles do I need to cover the ...  \n",
       "\n",
       "[294 rows x 7 columns]"
      ]
     },
     "execution_count": 68,
     "metadata": {},
     "output_type": "execute_result"
    }
   ],
   "source": [
    "df"
   ]
  },
  {
   "cell_type": "code",
   "execution_count": 70,
   "metadata": {},
   "outputs": [],
   "source": [
    "df.to_json(r\"C:\\Users\\kaush\\Desktop\\fuck_you_chatPAL\\pal\\datasets\\gsmr_with_subquestions.jsonl\", orient=\"records\", lines=True)"
   ]
  },
  {
   "cell_type": "markdown",
   "metadata": {},
   "source": [
    "## Results:"
   ]
  },
  {
   "cell_type": "code",
   "execution_count": 8,
   "metadata": {},
   "outputs": [],
   "source": [
    "RESULTS = r\"C:\\Users\\kaush\\Desktop\\fuck_you_chatPAL\\pal\\eval_results\\24-04-2023_231642_kaush_gsmr_with_subquestions.chat.jsonl\""
   ]
  },
  {
   "cell_type": "code",
   "execution_count": 9,
   "metadata": {},
   "outputs": [
    {
     "ename": "ValueError",
     "evalue": "Expected object or value",
     "output_type": "error",
     "traceback": [
      "\u001b[1;31m---------------------------------------------------------------------------\u001b[0m",
      "\u001b[1;31mValueError\u001b[0m                                Traceback (most recent call last)",
      "\u001b[1;32mc:\\Users\\kaush\\Desktop\\fuck_you_chatPAL\\pal\\notebooks\\kaushik_sandbox.ipynb Cell 27\u001b[0m in \u001b[0;36m<cell line: 1>\u001b[1;34m()\u001b[0m\n\u001b[1;32m----> <a href='vscode-notebook-cell:/c%3A/Users/kaush/Desktop/fuck_you_chatPAL/pal/notebooks/kaushik_sandbox.ipynb#X35sZmlsZQ%3D%3D?line=0'>1</a>\u001b[0m results \u001b[39m=\u001b[39m pd\u001b[39m.\u001b[39;49mread_json(RESULTS, lines\u001b[39m=\u001b[39;49m\u001b[39mTrue\u001b[39;49;00m)\n",
      "File \u001b[1;32mc:\\Users\\kaush\\anaconda3\\lib\\site-packages\\pandas\\util\\_decorators.py:207\u001b[0m, in \u001b[0;36mdeprecate_kwarg.<locals>._deprecate_kwarg.<locals>.wrapper\u001b[1;34m(*args, **kwargs)\u001b[0m\n\u001b[0;32m    205\u001b[0m     \u001b[39melse\u001b[39;00m:\n\u001b[0;32m    206\u001b[0m         kwargs[new_arg_name] \u001b[39m=\u001b[39m new_arg_value\n\u001b[1;32m--> 207\u001b[0m \u001b[39mreturn\u001b[39;00m func(\u001b[39m*\u001b[39margs, \u001b[39m*\u001b[39m\u001b[39m*\u001b[39mkwargs)\n",
      "File \u001b[1;32mc:\\Users\\kaush\\anaconda3\\lib\\site-packages\\pandas\\util\\_decorators.py:311\u001b[0m, in \u001b[0;36mdeprecate_nonkeyword_arguments.<locals>.decorate.<locals>.wrapper\u001b[1;34m(*args, **kwargs)\u001b[0m\n\u001b[0;32m    305\u001b[0m \u001b[39mif\u001b[39;00m \u001b[39mlen\u001b[39m(args) \u001b[39m>\u001b[39m num_allow_args:\n\u001b[0;32m    306\u001b[0m     warnings\u001b[39m.\u001b[39mwarn(\n\u001b[0;32m    307\u001b[0m         msg\u001b[39m.\u001b[39mformat(arguments\u001b[39m=\u001b[39marguments),\n\u001b[0;32m    308\u001b[0m         \u001b[39mFutureWarning\u001b[39;00m,\n\u001b[0;32m    309\u001b[0m         stacklevel\u001b[39m=\u001b[39mstacklevel,\n\u001b[0;32m    310\u001b[0m     )\n\u001b[1;32m--> 311\u001b[0m \u001b[39mreturn\u001b[39;00m func(\u001b[39m*\u001b[39margs, \u001b[39m*\u001b[39m\u001b[39m*\u001b[39mkwargs)\n",
      "File \u001b[1;32mc:\\Users\\kaush\\anaconda3\\lib\\site-packages\\pandas\\io\\json\\_json.py:612\u001b[0m, in \u001b[0;36mread_json\u001b[1;34m(path_or_buf, orient, typ, dtype, convert_axes, convert_dates, keep_default_dates, numpy, precise_float, date_unit, encoding, encoding_errors, lines, chunksize, compression, nrows, storage_options)\u001b[0m\n\u001b[0;32m    609\u001b[0m     \u001b[39mreturn\u001b[39;00m json_reader\n\u001b[0;32m    611\u001b[0m \u001b[39mwith\u001b[39;00m json_reader:\n\u001b[1;32m--> 612\u001b[0m     \u001b[39mreturn\u001b[39;00m json_reader\u001b[39m.\u001b[39;49mread()\n",
      "File \u001b[1;32mc:\\Users\\kaush\\anaconda3\\lib\\site-packages\\pandas\\io\\json\\_json.py:744\u001b[0m, in \u001b[0;36mJsonReader.read\u001b[1;34m(self)\u001b[0m\n\u001b[0;32m    742\u001b[0m         data \u001b[39m=\u001b[39m ensure_str(\u001b[39mself\u001b[39m\u001b[39m.\u001b[39mdata)\n\u001b[0;32m    743\u001b[0m         data_lines \u001b[39m=\u001b[39m data\u001b[39m.\u001b[39msplit(\u001b[39m\"\u001b[39m\u001b[39m\\n\u001b[39;00m\u001b[39m\"\u001b[39m)\n\u001b[1;32m--> 744\u001b[0m         obj \u001b[39m=\u001b[39m \u001b[39mself\u001b[39;49m\u001b[39m.\u001b[39;49m_get_object_parser(\u001b[39mself\u001b[39;49m\u001b[39m.\u001b[39;49m_combine_lines(data_lines))\n\u001b[0;32m    745\u001b[0m \u001b[39melse\u001b[39;00m:\n\u001b[0;32m    746\u001b[0m     obj \u001b[39m=\u001b[39m \u001b[39mself\u001b[39m\u001b[39m.\u001b[39m_get_object_parser(\u001b[39mself\u001b[39m\u001b[39m.\u001b[39mdata)\n",
      "File \u001b[1;32mc:\\Users\\kaush\\anaconda3\\lib\\site-packages\\pandas\\io\\json\\_json.py:768\u001b[0m, in \u001b[0;36mJsonReader._get_object_parser\u001b[1;34m(self, json)\u001b[0m\n\u001b[0;32m    766\u001b[0m obj \u001b[39m=\u001b[39m \u001b[39mNone\u001b[39;00m\n\u001b[0;32m    767\u001b[0m \u001b[39mif\u001b[39;00m typ \u001b[39m==\u001b[39m \u001b[39m\"\u001b[39m\u001b[39mframe\u001b[39m\u001b[39m\"\u001b[39m:\n\u001b[1;32m--> 768\u001b[0m     obj \u001b[39m=\u001b[39m FrameParser(json, \u001b[39m*\u001b[39;49m\u001b[39m*\u001b[39;49mkwargs)\u001b[39m.\u001b[39;49mparse()\n\u001b[0;32m    770\u001b[0m \u001b[39mif\u001b[39;00m typ \u001b[39m==\u001b[39m \u001b[39m\"\u001b[39m\u001b[39mseries\u001b[39m\u001b[39m\"\u001b[39m \u001b[39mor\u001b[39;00m obj \u001b[39mis\u001b[39;00m \u001b[39mNone\u001b[39;00m:\n\u001b[0;32m    771\u001b[0m     \u001b[39mif\u001b[39;00m \u001b[39mnot\u001b[39;00m \u001b[39misinstance\u001b[39m(dtype, \u001b[39mbool\u001b[39m):\n",
      "File \u001b[1;32mc:\\Users\\kaush\\anaconda3\\lib\\site-packages\\pandas\\io\\json\\_json.py:880\u001b[0m, in \u001b[0;36mParser.parse\u001b[1;34m(self)\u001b[0m\n\u001b[0;32m    878\u001b[0m     \u001b[39mself\u001b[39m\u001b[39m.\u001b[39m_parse_numpy()\n\u001b[0;32m    879\u001b[0m \u001b[39melse\u001b[39;00m:\n\u001b[1;32m--> 880\u001b[0m     \u001b[39mself\u001b[39;49m\u001b[39m.\u001b[39;49m_parse_no_numpy()\n\u001b[0;32m    882\u001b[0m \u001b[39mif\u001b[39;00m \u001b[39mself\u001b[39m\u001b[39m.\u001b[39mobj \u001b[39mis\u001b[39;00m \u001b[39mNone\u001b[39;00m:\n\u001b[0;32m    883\u001b[0m     \u001b[39mreturn\u001b[39;00m \u001b[39mNone\u001b[39;00m\n",
      "File \u001b[1;32mc:\\Users\\kaush\\anaconda3\\lib\\site-packages\\pandas\\io\\json\\_json.py:1133\u001b[0m, in \u001b[0;36mFrameParser._parse_no_numpy\u001b[1;34m(self)\u001b[0m\n\u001b[0;32m   1129\u001b[0m orient \u001b[39m=\u001b[39m \u001b[39mself\u001b[39m\u001b[39m.\u001b[39morient\n\u001b[0;32m   1131\u001b[0m \u001b[39mif\u001b[39;00m orient \u001b[39m==\u001b[39m \u001b[39m\"\u001b[39m\u001b[39mcolumns\u001b[39m\u001b[39m\"\u001b[39m:\n\u001b[0;32m   1132\u001b[0m     \u001b[39mself\u001b[39m\u001b[39m.\u001b[39mobj \u001b[39m=\u001b[39m DataFrame(\n\u001b[1;32m-> 1133\u001b[0m         loads(json, precise_float\u001b[39m=\u001b[39;49m\u001b[39mself\u001b[39;49m\u001b[39m.\u001b[39;49mprecise_float), dtype\u001b[39m=\u001b[39m\u001b[39mNone\u001b[39;00m\n\u001b[0;32m   1134\u001b[0m     )\n\u001b[0;32m   1135\u001b[0m \u001b[39melif\u001b[39;00m orient \u001b[39m==\u001b[39m \u001b[39m\"\u001b[39m\u001b[39msplit\u001b[39m\u001b[39m\"\u001b[39m:\n\u001b[0;32m   1136\u001b[0m     decoded \u001b[39m=\u001b[39m {\n\u001b[0;32m   1137\u001b[0m         \u001b[39mstr\u001b[39m(k): v\n\u001b[0;32m   1138\u001b[0m         \u001b[39mfor\u001b[39;00m k, v \u001b[39min\u001b[39;00m loads(json, precise_float\u001b[39m=\u001b[39m\u001b[39mself\u001b[39m\u001b[39m.\u001b[39mprecise_float)\u001b[39m.\u001b[39mitems()\n\u001b[0;32m   1139\u001b[0m     }\n",
      "\u001b[1;31mValueError\u001b[0m: Expected object or value"
     ]
    }
   ],
   "source": [
    "results = pd.read_json(RESULTS, lines=True)"
   ]
  },
  {
   "cell_type": "code",
   "execution_count": 81,
   "metadata": {},
   "outputs": [
    {
     "data": {
      "text/plain": [
       "0.5347985347985348"
      ]
     },
     "execution_count": 81,
     "metadata": {},
     "output_type": "execute_result"
    }
   ],
   "source": [
    "results[\"score\"].value_counts()[1]/len(results[\"score\"])"
   ]
  },
  {
   "attachments": {},
   "cell_type": "markdown",
   "metadata": {},
   "source": [
    "    Not all questions were completed, only some 273 were out of 294.\n",
    "    On the ones that were completed, the accuracy was 53.47%."
   ]
  },
  {
   "attachments": {},
   "cell_type": "markdown",
   "metadata": {},
   "source": [
    "    Let's get all the last # Sub-Question Answer: Numbers from each question and see if we can get a better accuracy."
   ]
  },
  {
   "cell_type": "code",
   "execution_count": 2,
   "metadata": {},
   "outputs": [
    {
     "ename": "NameError",
     "evalue": "name 'results' is not defined",
     "output_type": "error",
     "traceback": [
      "\u001b[1;31m---------------------------------------------------------------------------\u001b[0m",
      "\u001b[1;31mNameError\u001b[0m                                 Traceback (most recent call last)",
      "\u001b[1;32mc:\\Users\\kaush\\Desktop\\fuck_you_chatPAL\\pal\\notebooks\\kaushik_sandbox.ipynb Cell 31\u001b[0m in \u001b[0;36m<cell line: 1>\u001b[1;34m()\u001b[0m\n\u001b[1;32m----> <a href='vscode-notebook-cell:/c%3A/Users/kaush/Desktop/fuck_you_chatPAL/pal/notebooks/kaushik_sandbox.ipynb#X42sZmlsZQ%3D%3D?line=0'>1</a>\u001b[0m \u001b[39mprint\u001b[39m(results[\u001b[39m\"\u001b[39m\u001b[39mgeneration\u001b[39m\u001b[39m\"\u001b[39m][\u001b[39m0\u001b[39m][\u001b[39m0\u001b[39m])\n",
      "\u001b[1;31mNameError\u001b[0m: name 'results' is not defined"
     ]
    }
   ],
   "source": [
    "print(results[\"generation\"][0][0])"
   ]
  },
  {
   "cell_type": "code",
   "execution_count": 105,
   "metadata": {},
   "outputs": [],
   "source": [
    "import re\n",
    "txt = results[\"generation\"][0][0]\n",
    "x = re.findall(\"# Sub-Question Answer: \\d+\", txt)\n",
    "x = x[-1]\n",
    "x = re.findall(\"\\d+\", x)[0]"
   ]
  },
  {
   "cell_type": "code",
   "execution_count": 114,
   "metadata": {},
   "outputs": [],
   "source": [
    "def obtain_sub_question_answer(text):\n",
    "    text = text[0]\n",
    "    x = re.findall(\"# Sub-Question Answer: \\d+\", text)\n",
    "    if len(x) > 0:\n",
    "        x = x[-1]\n",
    "        x = re.findall(\"\\d+\", x)[0]\n",
    "    else:\n",
    "        x = 0   \n",
    "    return int(x)"
   ]
  },
  {
   "cell_type": "code",
   "execution_count": 115,
   "metadata": {},
   "outputs": [],
   "source": [
    "results[\"implicit_self_eval_ans\"] = results[\"generation\"].map(obtain_sub_question_answer)"
   ]
  },
  {
   "cell_type": "code",
   "execution_count": 123,
   "metadata": {},
   "outputs": [],
   "source": [
    "self_eval_boolean_result = (results[\"implicit_self_eval_ans\"] == results[\"target\"])"
   ]
  },
  {
   "cell_type": "code",
   "execution_count": 128,
   "metadata": {},
   "outputs": [
    {
     "data": {
      "text/plain": [
       "273"
      ]
     },
     "execution_count": 128,
     "metadata": {},
     "output_type": "execute_result"
    }
   ],
   "source": [
    "len(results[\"score\"])"
   ]
  },
  {
   "cell_type": "code",
   "execution_count": 133,
   "metadata": {},
   "outputs": [
    {
     "data": {
      "text/plain": [
       "0.4908424908424908"
      ]
     },
     "execution_count": 133,
     "metadata": {},
     "output_type": "execute_result"
    }
   ],
   "source": [
    "self_eval_boolean_result.value_counts()[True]/len(results[\"score\"])"
   ]
  },
  {
   "cell_type": "code",
   "execution_count": 129,
   "metadata": {},
   "outputs": [
    {
     "data": {
      "text/plain": [
       "0.5347985347985348"
      ]
     },
     "execution_count": 129,
     "metadata": {},
     "output_type": "execute_result"
    }
   ],
   "source": [
    "results[\"score\"].value_counts()[1]/len(results[\"score\"])"
   ]
  },
  {
   "cell_type": "code",
   "execution_count": 140,
   "metadata": {},
   "outputs": [
    {
     "data": {
      "text/plain": [
       "0        94.0\n",
       "1      8000.0\n",
       "2        11.0\n",
       "3       175.0\n",
       "4         3.0\n",
       "        ...  \n",
       "268      80.0\n",
       "269     265.0\n",
       "270     540.0\n",
       "271       4.0\n",
       "272      70.0\n",
       "Name: implicit_self_eval_ans, Length: 273, dtype: float64"
      ]
     },
     "execution_count": 140,
     "metadata": {},
     "output_type": "execute_result"
    }
   ],
   "source": [
    "results[\"implicit_self_eval_ans\"].astype(float)"
   ]
  },
  {
   "cell_type": "code",
   "execution_count": 142,
   "metadata": {},
   "outputs": [],
   "source": [
    "self_eval_comparison = results[\"answer\"] == results[\"implicit_self_eval_ans\"].astype(float)"
   ]
  },
  {
   "cell_type": "code",
   "execution_count": 143,
   "metadata": {},
   "outputs": [
    {
     "data": {
      "text/plain": [
       "True     179\n",
       "False     94\n",
       "dtype: int64"
      ]
     },
     "execution_count": 143,
     "metadata": {},
     "output_type": "execute_result"
    }
   ],
   "source": [
    "self_eval_comparison.value_counts()"
   ]
  },
  {
   "cell_type": "code",
   "execution_count": 144,
   "metadata": {},
   "outputs": [
    {
     "data": {
      "text/plain": [
       "0.6556776556776557"
      ]
     },
     "execution_count": 144,
     "metadata": {},
     "output_type": "execute_result"
    }
   ],
   "source": [
    "179/(179+94)"
   ]
  },
  {
   "cell_type": "code",
   "execution_count": 149,
   "metadata": {},
   "outputs": [
    {
     "name": "stdout",
     "output_type": "stream",
     "text": [
      "```\n",
      "def solution():\n",
      "    # How much do the two pairs of high heels cost in total?\n",
      "    heel1_cost = 33\n",
      "    heel2_cost = heel1_cost * 2\n",
      "    total_heels_cost = heel1_cost + heel2_cost\n",
      "    # Sub-Question Answer: 99\n",
      "\n",
      "    # How much does the more expensive pair of high heels cost?\n",
      "    expensive_heel_cost = heel2_cost\n",
      "    # Sub-Question Answer: 66\n",
      "\n",
      "    # What is the cost of the boots?\n",
      "    boots_cost = total_heels_cost - 5\n",
      "    # Sub-Question Answer: 94\n",
      "\n",
      "    # How many dollars are the boots?\n",
      "    result = boots_cost\n",
      "    # Sub-Question Answer: 94\n",
      "    \n",
      "    return result\n",
      "```\n"
     ]
    }
   ],
   "source": [
    "print(results[\"generation\"][0][0])"
   ]
  },
  {
   "cell_type": "code",
   "execution_count": 148,
   "metadata": {},
   "outputs": [
    {
     "name": "stdout",
     "output_type": "stream",
     "text": [
      "Question: Gloria is shoe shopping when she comes across a pair of boots that fit her shoe budget. However, she has to choose between the boots and two pairs of high heels that together cost five dollars less than the boots. If one pair of heels costs $33 and the other costs twice as much, how many dollars are the boots?\n",
      "Sub-Question 1. How much do the two pairs of high heels cost in total?\n",
      "Sub-Question 2. How much does the more expensive pair of high heels cost?\n",
      "Sub-Question 3. What is the cost of the boots?\n",
      "Sub-Question 4. How many dollars are the boots?\n",
      "\n"
     ]
    }
   ],
   "source": [
    "print(results[\"input\"][0])"
   ]
  },
  {
   "cell_type": "code",
   "execution_count": 150,
   "metadata": {},
   "outputs": [
    {
     "ename": "SyntaxError",
     "evalue": "EOL while scanning string literal (4090270993.py, line 1)",
     "output_type": "error",
     "traceback": [
      "\u001b[1;36m  Input \u001b[1;32mIn [150]\u001b[1;36m\u001b[0m\n\u001b[1;33m    Let's answer each sub-question in a separate code block initially and insert a comment containing the sub-question answer as- Sub-Question Answer:answer value.\u001b[0m\n\u001b[1;37m                                                                                                                                                                   ^\u001b[0m\n\u001b[1;31mSyntaxError\u001b[0m\u001b[1;31m:\u001b[0m EOL while scanning string literal\n"
     ]
    }
   ],
   "source": [
    "Let's answer each sub-question in a separate code block initially and insert a comment containing the sub-question answer as- Sub-Question Answer:answer value.\n",
    "Question: Gloria is shoe shopping when she comes across a pair of boots that fit her shoe budget. However, she has to choose between the boots and two pairs of high heels that together cost five dollars less than the boots. If one pair of heels costs $33 and the other costs twice as much, how many dollars are the boots?\n",
    "Sub-Question 1. How much do the two pairs of high heels cost in total?\n",
    "# How much do the two pairs of high heels cost in total?\n",
    "heel1_cost = 33\n",
    "heel2_cost = heel1_cost * 2\n",
    "total_heels_cost = heel1_cost + heel2_cost\n",
    "# Sub-Question Answer: 99\n",
    "Check the work on the sub-question above. Ensure there are no logic errors or coding errors, keeping in mind the following:\n",
    "Question: Gloria is shoe shopping when she comes across a pair of boots that fit her shoe budget. However, she has to choose between the boots and two pairs of high heels that together cost five dollars less than the boots. If one pair of heels costs $33 and the other costs twice as much, how many dollars are the boots?\n",
    "Answer \"True\" if sure, else \"False\"."
   ]
  },
  {
   "cell_type": "code",
   "execution_count": 151,
   "metadata": {},
   "outputs": [
    {
     "ename": "SyntaxError",
     "evalue": "invalid syntax (3772745440.py, line 4)",
     "output_type": "error",
     "traceback": [
      "\u001b[1;36m  Input \u001b[1;32mIn [151]\u001b[1;36m\u001b[0m\n\u001b[1;33m    Check your work on the previous sub-question. Ensure there are no logic errors or coding errors, keeping in mind the original question. Answer \"True\" if sure, else \"False\".\u001b[0m\n\u001b[1;37m          ^\u001b[0m\n\u001b[1;31mSyntaxError\u001b[0m\u001b[1;31m:\u001b[0m invalid syntax\n"
     ]
    },
    {
     "ename": "",
     "evalue": "",
     "output_type": "error",
     "traceback": [
      "\u001b[1;31mThe Kernel crashed while executing code in the the current cell or a previous cell. Please review the code in the cell(s) to identify a possible cause of the failure. Click <a href='https://aka.ms/vscodeJupyterKernelCrash'>here</a> for more info. View Jupyter <a href='command:jupyter.viewOutput'>log</a> for further details."
     ]
    }
   ],
   "source": [
    "Sub-Question 2. How much does the more expensive pair of high heels cost?\n",
    "expensive_heel_cost = heel2_cost\n",
    "# Sub-Question Answer: 66\n",
    "Check the work on the sub-question above. Ensure there are no logic errors or coding errors, keeping in mind the following:\n",
    "Question: Gloria is shoe shopping when she comes across a pair of boots that fit her shoe budget. However, she has to choose between the boots and two pairs of high heels that together cost five dollars less than the boots. If one pair of heels costs $33 and the other costs twice as much, how many dollars are the boots?\n",
    "Answer \"True\" if sure, else \"False\"."
   ]
  },
  {
   "cell_type": "code",
   "execution_count": null,
   "metadata": {},
   "outputs": [],
   "source": [
    "Sub-Question 3. What is the cost of the boots?\n",
    "boots_cost = total_heels_cost - 5\n",
    "# Sub-Question Answer: 94\n",
    "Check the work on the sub-question above. Ensure there are no logic errors or coding errors, keeping in mind the following:\n",
    "Question: Gloria is shoe shopping when she comes across a pair of boots that fit her shoe budget. However, she has to choose between the boots and two pairs of high heels that together cost five dollars less than the boots. If one pair of heels costs $33 and the other costs twice as much, how many dollars are the boots?\n",
    "Answer \"True\" if sure, else \"False\"."
   ]
  },
  {
   "cell_type": "markdown",
   "metadata": {},
   "source": [
    "### Randomly picking 5 results which are wrong:"
   ]
  },
  {
   "cell_type": "code",
   "execution_count": 1,
   "metadata": {},
   "outputs": [
    {
     "ename": "NameError",
     "evalue": "name 'results' is not defined",
     "output_type": "error",
     "traceback": [
      "\u001b[1;31m---------------------------------------------------------------------------\u001b[0m",
      "\u001b[1;31mNameError\u001b[0m                                 Traceback (most recent call last)",
      "\u001b[1;32mc:\\Users\\kaush\\Desktop\\fuck_you_chatPAL\\pal\\notebooks\\kaushik_sandbox.ipynb Cell 49\u001b[0m in \u001b[0;36m<cell line: 1>\u001b[1;34m()\u001b[0m\n\u001b[1;32m----> <a href='vscode-notebook-cell:/c%3A/Users/kaush/Desktop/fuck_you_chatPAL/pal/notebooks/kaushik_sandbox.ipynb#X66sZmlsZQ%3D%3D?line=0'>1</a>\u001b[0m results\n",
      "\u001b[1;31mNameError\u001b[0m: name 'results' is not defined"
     ]
    }
   ],
   "source": [
    "results"
   ]
  },
  {
   "cell_type": "code",
   "execution_count": null,
   "metadata": {},
   "outputs": [],
   "source": []
  },
  {
   "cell_type": "code",
   "execution_count": null,
   "metadata": {},
   "outputs": [],
   "source": []
  }
 ],
 "metadata": {
  "kernelspec": {
   "display_name": "base",
   "language": "python",
   "name": "python3"
  },
  "language_info": {
   "codemirror_mode": {
    "name": "ipython",
    "version": 3
   },
   "file_extension": ".py",
   "mimetype": "text/x-python",
   "name": "python",
   "nbconvert_exporter": "python",
   "pygments_lexer": "ipython3",
   "version": "3.9.12"
  },
  "orig_nbformat": 4
 },
 "nbformat": 4,
 "nbformat_minor": 2
}
