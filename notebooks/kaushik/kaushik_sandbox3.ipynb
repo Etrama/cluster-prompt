{
 "cells": [
  {
   "cell_type": "code",
   "execution_count": 1,
   "metadata": {},
   "outputs": [],
   "source": [
    "import numpy as np\n",
    "import pandas as pd\n",
    "import matplotlib.pyplot as plt"
   ]
  },
  {
   "cell_type": "code",
   "execution_count": 2,
   "metadata": {},
   "outputs": [],
   "source": [
    "RESULTS = r\"C:\\Users\\kaush\\Desktop\\fuck_you_chatPAL\\pal\\eval_results\\24-04-2023_231642_kaush_gsmr_implicit_self_eval_acc53.4.chat.jsonl\""
   ]
  },
  {
   "cell_type": "code",
   "execution_count": 3,
   "metadata": {},
   "outputs": [],
   "source": [
    "results = pd.read_json(RESULTS, lines=True)"
   ]
  },
  {
   "attachments": {},
   "cell_type": "markdown",
   "metadata": {},
   "source": [
    "    let's randomly pick 5 indices whose score is 0, i.e. we got it wrong"
   ]
  },
  {
   "cell_type": "code",
   "execution_count": 4,
   "metadata": {},
   "outputs": [],
   "source": [
    "\n",
    "wrong_indices = results[results.score == 0].index\n",
    "wrong_indices = wrong_indices.tolist()\n",
    "wrong_indices = np.array(wrong_indices)\n",
    "random_bad_indices = np.random.choice(wrong_indices, 5, replace=False)"
   ]
  },
  {
   "cell_type": "code",
   "execution_count": 5,
   "metadata": {},
   "outputs": [
    {
     "data": {
      "text/plain": [
       "array([217,  12,  76,  93,  52])"
      ]
     },
     "execution_count": 5,
     "metadata": {},
     "output_type": "execute_result"
    }
   ],
   "source": [
    "random_bad_indices"
   ]
  },
  {
   "cell_type": "markdown",
   "metadata": {},
   "source": [
    "    I need to see the question and the generation side by side"
   ]
  },
  {
   "cell_type": "code",
   "execution_count": 6,
   "metadata": {},
   "outputs": [],
   "source": [
    "def custom_print(index, results=results):\n",
    "    print(results.loc[index].input)\n",
    "    print(\"=\"*80)\n",
    "    print(results.loc[index].generation[0])\n",
    "    print(\"=\"*80)\n",
    "    print(results.loc[index].target)"
   ]
  },
  {
   "cell_type": "code",
   "execution_count": 7,
   "metadata": {},
   "outputs": [
    {
     "name": "stdout",
     "output_type": "stream",
     "text": [
      "Question: Jon runs a triathlon.  It takes him 40 minutes for the swim, an hour and 20 minutes for the bike ride and 50 minutes for the run.  Compared to Jon, James finishes the swim 10% faster but takes 5 minutes longer on the bike.  If Jon won by 10 minutes, how long did it take James to do the run?\n",
      "Sub-Question 1. How long did it take James to do the swim?\n",
      "Sub-Question 2. How long did it take James to do the bike ride?\n",
      "Sub-Question 3. How long did it take James to complete the triathlon?\n",
      "Sub-Question 4. How long did it take Jon to complete the triathlon?\n",
      "Sub-Question 5. What is the time difference between Jon and James after the swim?\n",
      "Sub-Question 6. What is the time difference between Jon and James after the bike ride?\n",
      "Sub-Question 7. What is the total time difference between Jon and James?\n",
      "Sub-Question 8. How long did it take James to do the run given the total time difference and Jon’s run time?\n",
      "Sub-Question 9. How long did it take James to do the run?\n",
      "\n",
      "================================================================================\n",
      "```\n",
      "def solution():\n",
      "    # Jon's triathlon times\n",
      "    swim_time_jon = 40\n",
      "    bike_time_jon = 80\n",
      "    run_time_jon = 50\n",
      "    triathlon_time_jon = swim_time_jon + bike_time_jon + run_time_jon\n",
      "    # Sub-Question Answer 4: 170\n",
      "\n",
      "    # James' triathlon times\n",
      "    swim_time_james = swim_time_jon * 0.9\n",
      "    bike_time_james = bike_time_jon + 5\n",
      "    triathlon_time_james = swim_time_james + bike_time_james + run_time_jon\n",
      "    # Sub-Question Answer 3: 174\n",
      "\n",
      "    # Time difference after the swim\n",
      "    swim_diff = swim_time_jon - swim_time_james\n",
      "    # Sub-Question Answer 5: 4\n",
      "\n",
      "    # Time difference after the bike ride\n",
      "    bike_diff = bike_time_jon - bike_time_james\n",
      "    # Sub-Question Answer 6: -15\n",
      "\n",
      "    # Total time difference\n",
      "    total_diff = swim_diff + bike_diff + 10\n",
      "    # Sub-Question Answer 7: -1\n",
      "\n",
      "    # James' run time given the total time difference and Jon's run time\n",
      "    run_time_james = run_time_jon - total_diff\n",
      "    # Sub-Question Answer 8: 51\n",
      "\n",
      "    # James' run time\n",
      "    # Sub-Question Answer 9: 41\n",
      "    \n",
      "    result = run_time_james\n",
      "    return result\n",
      "```\n",
      "================================================================================\n",
      "59\n"
     ]
    }
   ],
   "source": [
    "custom_print(12)"
   ]
  },
  {
   "cell_type": "code",
   "execution_count": null,
   "metadata": {},
   "outputs": [],
   "source": []
  }
 ],
 "metadata": {
  "kernelspec": {
   "display_name": "base",
   "language": "python",
   "name": "python3"
  },
  "language_info": {
   "codemirror_mode": {
    "name": "ipython",
    "version": 3
   },
   "file_extension": ".py",
   "mimetype": "text/x-python",
   "name": "python",
   "nbconvert_exporter": "python",
   "pygments_lexer": "ipython3",
   "version": "3.9.12"
  },
  "orig_nbformat": 4
 },
 "nbformat": 4,
 "nbformat_minor": 2
}
