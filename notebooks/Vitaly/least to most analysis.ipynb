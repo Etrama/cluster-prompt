{
 "cells": [
  {
   "cell_type": "code",
   "execution_count": 1,
   "metadata": {},
   "outputs": [],
   "source": [
    "%load_ext autoreload\n",
    "%autoreload 2"
   ]
  },
  {
   "cell_type": "code",
   "execution_count": 2,
   "metadata": {},
   "outputs": [],
   "source": [
    "import pandas as pd"
   ]
  },
  {
   "cell_type": "code",
   "execution_count": 7,
   "metadata": {},
   "outputs": [],
   "source": [
    "results = pd.read_json('../../eval_results/25-04-2023_153023_ChikChirik_gsm_acc72.93.chat.jsonl', lines=True)\n",
    "og_results = pd.read_json('../../eval_results/06-04-2023_202104_ChikChirik_gsm_acc77.63.chat.jsonl', lines=True)"
   ]
  },
  {
   "cell_type": "code",
   "execution_count": 21,
   "metadata": {},
   "outputs": [],
   "source": [
    "results['prev_score'] = og_results.score"
   ]
  },
  {
   "cell_type": "code",
   "execution_count": 23,
   "metadata": {},
   "outputs": [
    {
     "name": "stdout",
     "output_type": "stream",
     "text": [
      "0.8369140625\n",
      "0.3559322033898305\n"
     ]
    }
   ],
   "source": [
    "print(results[results.prev_score == 1].score.mean())\n",
    "print(results[results.prev_score == 0].score.mean())"
   ]
  },
  {
   "cell_type": "code",
   "execution_count": 27,
   "metadata": {},
   "outputs": [],
   "source": [
    "degraded = results[(results.prev_score == 1) & (results.score == 0)]"
   ]
  },
  {
   "cell_type": "code",
   "execution_count": 34,
   "metadata": {},
   "outputs": [],
   "source": [
    "with open('./degraded_results_least_to_most.txt', 'w') as f:\n",
    "    for i, row in degraded.iterrows():\n",
    "        f.write(f'{row.input}\\ntarget:{row.target}\\nanswer:{row.answer}\\n{row.generation[0]}\\n\\n')"
   ]
  },
  {
   "cell_type": "code",
   "execution_count": 42,
   "metadata": {},
   "outputs": [
    {
     "name": "stdout",
     "output_type": "stream",
     "text": [
      "```\n",
      "def solution():\n",
      "    \"\"\"Carlos is planting a lemon tree. The tree will cost $90 to plant. Each year it will grow 7 lemons, which he can sell for $1.5 each. It costs $3 a year to water and feed the tree. How many years will it take before he starts earning money on the lemon tree?\"\"\"\n",
      "    tree_cost = 90\n",
      "    lemon_price = 1.5\n",
      "    lemon_yield = 7\n",
      "    yearly_cost = 3\n",
      "    years = 0\n",
      "    while True:\n",
      "        years += 1\n",
      "        total_revenue = lemon_price * lemon_yield * years\n",
      "        total_cost = tree_cost + yearly_cost * years\n",
      "        if total_revenue > total_cost:\n",
      "            break\n",
      "    result = years\n",
      "    return result\n",
      "```\n"
     ]
    }
   ],
   "source": [
    "print(og_results[og_results.input == 'Carlos is planting a lemon tree. The tree will cost $90 to plant. Each year it will grow 7 lemons, which he can sell for $1.5 each. It costs $3 a year to water and feed the tree. How many years will it take before he starts earning money on the lemon tree?'].generation.iloc[0][0])"
   ]
  },
  {
   "cell_type": "code",
   "execution_count": null,
   "metadata": {},
   "outputs": [],
   "source": []
  }
 ],
 "metadata": {
  "kernelspec": {
   "display_name": "PAL",
   "language": "python",
   "name": "python3"
  },
  "language_info": {
   "codemirror_mode": {
    "name": "ipython",
    "version": 3
   },
   "file_extension": ".py",
   "mimetype": "text/x-python",
   "name": "python",
   "nbconvert_exporter": "python",
   "pygments_lexer": "ipython3",
   "version": "3.9.16"
  },
  "orig_nbformat": 4
 },
 "nbformat": 4,
 "nbformat_minor": 2
}
