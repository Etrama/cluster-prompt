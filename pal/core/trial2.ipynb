{
 "cells": [
  {
   "cell_type": "code",
   "execution_count": 42,
   "metadata": {},
   "outputs": [],
   "source": [
    "#The below is going to be our interface.py file"
   ]
  },
  {
   "cell_type": "code",
   "execution_count": 55,
   "metadata": {},
   "outputs": [],
   "source": [
    "from pal import interface"
   ]
  },
  {
   "cell_type": "code",
   "execution_count": 49,
   "metadata": {},
   "outputs": [],
   "source": [
    "# MATH_CHAT_BETA_SYSTEM_MESSAGE = 'You will write python program to solve math problems. You will only write code blocks.'\n",
    "MATH_CHAT_BETA_SYSTEM_MESSAGE = \"You will write a python function called 'solution' to solve math problems. Non code line should be prefixed with a '#'.\"\n",
    "question = 'Olivia has $50. She bought five bagels for $3 each. How much money does she have left?'\n",
    "\n",
    "MATH_CHAT_BETA_PROMPT = f'''\n",
    "Let's use python to solve math problems. Here are three examples how to do it,\n",
    "Q: Olivia has $23. She bought five bagels for $3 each. How much money does she have left?\n",
    "```\n",
    "def solution():\n",
    "    \"\"\"Olivia has $23. She bought five bagels for $3 each. How much money does she have left?\"\"\"\n",
    "    money_initial = 23\n",
    "    bagels = 5\n",
    "    bagel_cost = 3\n",
    "    money_spent = bagels * bagel_cost\n",
    "    money_left = money_initial - money_spent\n",
    "    result = money_left\n",
    "    return result\n",
    "```\n",
    "\n",
    "Q: Michael had 58 golf balls. On tuesday, he lost 23 golf balls. On wednesday, he lost 2 more. How many golf balls did he have at the end of wednesday?\n",
    "```\n",
    "def solution():\n",
    "    \"\"\"Michael had 58 golf balls. On tuesday, he lost 23 golf balls. On wednesday, he lost 2 more. How many golf balls did he have at the end of wednesday?\"\"\"\n",
    "    golf_balls_initial = 58\n",
    "    golf_balls_lost_tuesday = 23\n",
    "    golf_balls_lost_wednesday = 2\n",
    "    golf_balls_left = golf_balls_initial - golf_balls_lost_tuesday - golf_balls_lost_wednesday\n",
    "    result = golf_balls_left\n",
    "    return result\n",
    "```\n",
    "\n",
    "Q: There were nine computers in the server room. Five more computers were installed each day, from monday to thursday. How many computers are now in the server room?\n",
    "```\n",
    "def solution():\n",
    "    \"\"\"There were nine computers in the server room. Five more computers were installed each day, from monday to thursday. How many computers are now in the server room?\"\"\"\n",
    "    computers_initial = 9\n",
    "    computers_per_day = 5\n",
    "    num_days = 4  # 4 days between monday and thursday\n",
    "    computers_added = computers_per_day * num_days\n",
    "    computers_total = computers_initial + computers_added\n",
    "    result = computers_total\n",
    "    return result\n",
    "```\n",
    "\n",
    "How about this question?\n",
    "Q: {question}\n",
    "'''.strip()\n",
    "# messages =[{'role': 'system', 'content': SYSTEM_MESSAGES}, {'role': 'user', 'content': MATH_CHAT_BETA_PROMPT}]\n",
    "# ans = openai.ChatCompletion.create(model='gpt-3.5-turbo', stop=None, temperature=0., top_p=1.0, max_tokens=128, n=1, messages=messages)\n"
   ]
  },
  {
   "cell_type": "code",
   "execution_count": 50,
   "metadata": {},
   "outputs": [],
   "source": [
    "pci = ProgramChatInterface(model='gpt-3.5-turbo', system_message=MATH_CHAT_BETA_SYSTEM_MESSAGE)\n",
    "question = 'Shona has $150. She bought five bagels for $3 each. How much money does she have left?'\n",
    "prompt = MATH_CHAT_BETA_PROMPT.format(question)"
   ]
  },
  {
   "cell_type": "code",
   "execution_count": 51,
   "metadata": {},
   "outputs": [
    {
     "name": "stdout",
     "output_type": "stream",
     "text": [
      "Let's use python to solve math problems. Here are three examples how to do it,\n",
      "Q: Olivia has $23. She bought five bagels for $3 each. How much money does she have left?\n",
      "```\n",
      "def solution():\n",
      "    \"\"\"Olivia has $23. She bought five bagels for $3 each. How much money does she have left?\"\"\"\n",
      "    money_initial = 23\n",
      "    bagels = 5\n",
      "    bagel_cost = 3\n",
      "    money_spent = bagels * bagel_cost\n",
      "    money_left = money_initial - money_spent\n",
      "    result = money_left\n",
      "    return result\n",
      "```\n",
      "\n",
      "Q: Michael had 58 golf balls. On tuesday, he lost 23 golf balls. On wednesday, he lost 2 more. How many golf balls did he have at the end of wednesday?\n",
      "```\n",
      "def solution():\n",
      "    \"\"\"Michael had 58 golf balls. On tuesday, he lost 23 golf balls. On wednesday, he lost 2 more. How many golf balls did he have at the end of wednesday?\"\"\"\n",
      "    golf_balls_initial = 58\n",
      "    golf_balls_lost_tuesday = 23\n",
      "    golf_balls_lost_wednesday = 2\n",
      "    golf_balls_left = golf_balls_initial - golf_balls_lost_tuesday - golf_balls_lost_wednesday\n",
      "    result = golf_balls_left\n",
      "    return result\n",
      "```\n",
      "\n",
      "Q: There were nine computers in the server room. Five more computers were installed each day, from monday to thursday. How many computers are now in the server room?\n",
      "```\n",
      "def solution():\n",
      "    \"\"\"There were nine computers in the server room. Five more computers were installed each day, from monday to thursday. How many computers are now in the server room?\"\"\"\n",
      "    computers_initial = 9\n",
      "    computers_per_day = 5\n",
      "    num_days = 4  # 4 days between monday and thursday\n",
      "    computers_added = computers_per_day * num_days\n",
      "    computers_total = computers_initial + computers_added\n",
      "    result = computers_total\n",
      "    return result\n",
      "```\n",
      "\n",
      "How about this question?\n",
      "Q: Olivia has $50. She bought five bagels for $3 each. How much money does she have left?\n"
     ]
    }
   ],
   "source": [
    "print(prompt)"
   ]
  },
  {
   "cell_type": "code",
   "execution_count": 52,
   "metadata": {},
   "outputs": [],
   "source": [
    "code = pci.generate(prompt)"
   ]
  },
  {
   "cell_type": "code",
   "execution_count": 53,
   "metadata": {},
   "outputs": [
    {
     "data": {
      "text/plain": [
       "[\"Here's the solution for the new question:\"]"
      ]
     },
     "execution_count": 53,
     "metadata": {},
     "output_type": "execute_result"
    }
   ],
   "source": [
    "code"
   ]
  },
  {
   "cell_type": "code",
   "execution_count": 57,
   "metadata": {},
   "outputs": [],
   "source": [
    "result ={\"input\": \"Josh decides to try flipping a house.  He buys a house for $80,000 and then puts in $50,000 in repairs.  This increased the value of the house by 150%.  How much profit did he make?\", \"target\": 70000, \"answer\": 195000.0, \"score\": 0, \"generation\": [\"```\\ndef solution():\\n    \\\"\\\"\\\"Josh decides to try flipping a house. He buys a house for $80,000 and then puts in $50,000 in repairs. This increased the value of the house by 150%. How much profit did he make?\\\"\\\"\\\"\\n    house_cost = 80000\\n    repair_cost = 50000\\n    increase_percent = 150\\n    increase_factor = increase_percent / 100 + 1\\n    new_value = (house_cost + repair_cost) * increase_factor\\n    profit = new_value - house_cost - repair_cost\\n    result = profit\\n    return result\\n```\"], \"code_error\": \"\", \"type_error\": \"\"}"
   ]
  },
  {
   "cell_type": "code",
   "execution_count": 59,
   "metadata": {},
   "outputs": [
    {
     "data": {
      "text/plain": [
       "['```\\ndef solution():\\n    \"\"\"Josh decides to try flipping a house. He buys a house for $80,000 and then puts in $50,000 in repairs. This increased the value of the house by 150%. How much profit did he make?\"\"\"\\n    house_cost = 80000\\n    repair_cost = 50000\\n    increase_percent = 150\\n    increase_factor = increase_percent / 100 + 1\\n    new_value = (house_cost + repair_cost) * increase_factor\\n    profit = new_value - house_cost - repair_cost\\n    result = profit\\n    return result\\n```']"
      ]
     },
     "execution_count": 59,
     "metadata": {},
     "output_type": "execute_result"
    }
   ],
   "source": [
    "result[\"generation\"]"
   ]
  },
  {
   "cell_type": "code",
   "execution_count": 60,
   "metadata": {},
   "outputs": [
    {
     "data": {
      "text/plain": [
       "list"
      ]
     },
     "execution_count": 60,
     "metadata": {},
     "output_type": "execute_result"
    }
   ],
   "source": [
    "type(result[\"generation\"])"
   ]
  },
  {
   "cell_type": "code",
   "execution_count": 62,
   "metadata": {},
   "outputs": [],
   "source": [
    "code = result[\"generation\"][0]"
   ]
  },
  {
   "cell_type": "code",
   "execution_count": 64,
   "metadata": {},
   "outputs": [],
   "source": [
    "#get everything inside the backticks\n",
    "code = code.split('```')[1]"
   ]
  },
  {
   "cell_type": "code",
   "execution_count": 66,
   "metadata": {},
   "outputs": [
    {
     "name": "stdout",
     "output_type": "stream",
     "text": [
      "\n",
      "def solution():\n",
      "    \"\"\"Josh decides to try flipping a house. He buys a house for $80,000 and then puts in $50,000 in repairs. This increased the value of the house by 150%. How much profit did he make?\"\"\"\n",
      "    house_cost = 80000\n",
      "    repair_cost = 50000\n",
      "    increase_percent = 150\n",
      "    increase_factor = increase_percent / 100 + 1\n",
      "    new_value = (house_cost + repair_cost) * increase_factor\n",
      "    profit = new_value - house_cost - repair_cost\n",
      "    result = profit\n",
      "    return result\n",
      "\n"
     ]
    }
   ],
   "source": [
    "#parese code\n",
    "print(code)"
   ]
  },
  {
   "cell_type": "code",
   "execution_count": null,
   "metadata": {},
   "outputs": [],
   "source": []
  }
 ],
 "metadata": {
  "kernelspec": {
   "display_name": "base",
   "language": "python",
   "name": "python3"
  },
  "language_info": {
   "codemirror_mode": {
    "name": "ipython",
    "version": 3
   },
   "file_extension": ".py",
   "mimetype": "text/x-python",
   "name": "python",
   "nbconvert_exporter": "python",
   "pygments_lexer": "ipython3",
   "version": "3.9.12"
  },
  "orig_nbformat": 4
 },
 "nbformat": 4,
 "nbformat_minor": 2
}
